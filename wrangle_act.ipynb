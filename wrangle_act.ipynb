{
 "cells": [
  {
   "cell_type": "markdown",
   "metadata": {
    "extensions": {
     "jupyter_dashboards": {
      "version": 1,
      "views": {
       "grid_default": {
        "col": 0,
        "height": 4,
        "hidden": false,
        "row": 0,
        "width": 4
       },
       "report_default": {
        "hidden": false
       }
      }
     }
    }
   },
   "source": [
    "# Project: Wrangling and Analyze Data"
   ]
  },
  {
   "cell_type": "markdown",
   "metadata": {},
   "source": [
    "Data wrangling is the process of gathering data, assessing its quality and structure and cleaning it before performing any analysis, visualization or build predictive models.\n",
    "\n",
    "Did you know, data professionals spend almost 80% of their time wrangling the data, leaving a mere 20% for exploration and modeling? Some people might wonder whether the time and effort spent on data wrangling is worthwhile. You can comprehend by using a straightforward analogy. Before the above-ground portion of a skyscraper is built, the foundation is expensive and time-consuming. However, this sturdy base is crucial for the structure to stand tall and fulfill its function for many years.\n",
    "\n",
    "In this analysis, I explored all the three stages of data wrangling; **Gathering Data**, **Assessing Data** and **Cleaning Data**. This analysis made use of three datasets. An already sitting data (tweet archive data), a test delimiter (tsv) file (tweet images) which was extracted from the website with the help of the requests library in python. The third dataset, was scrapped from twitter which contains the favorite likes and retweets of dogs from a twitter handle. The two techniques of data assessment were used to evaluate the data: the data quality issue, which deals with the contents of the data, such as missing, inaccurate, inconsistent, duplicates data etc., and the tidiness issue, which has to do with the structure of the data. I employed both programmatic and visual techniques to evaluate the quality and tidiness issues.\n"
   ]
  },
  {
   "cell_type": "markdown",
   "metadata": {},
   "source": [
    "# Contents \n",
    "\n",
    "1.  [Gathering Data](#1.-Data-Gathering)\n",
    "2.  [Assessing Data](#2.-Assessing-Data) \n",
    "\n",
    "       2.1 [Quality Issues](#2.1.-Quality-issues)\n",
    "    \n",
    "       2.2 [Tidiness Issues](#2.2.-Tidiness-issues)\n",
    "    \n",
    "3.  [Data Cleaning](#3.-Cleaning-Data)\n",
    "\n",
    "     3.1 [Assesing Data Quality Issue](#3.2.0-Assessing-Data-Quality-Issues)\n",
    "\n",
    "       3.1.1 [Issue 1](#3.1.-Define:)\n",
    "    \n",
    "       3.2.2 [Issue 2](#3.2.-Define)\n",
    "    \n",
    "       3.3.3 [Issue 3](#3.3.-Define)\n",
    "    \n",
    "       3.4.4 [Issue 4](#3.4.-Define)\n",
    "    \n",
    "       3.5.5 [Issue 5](#3.5.-Define)\n",
    "    \n",
    "       3.6.7 [Issue 6](#3.6.-Define)\n",
    "    \n",
    "       3.7.8 [Issue 7](#3.7.-Define)\n",
    "    \n",
    "       3.8.9 [Issue 8](#3.8.-Define)\n",
    "       \n",
    "       3.8.9 [Issue 9](#3.9.-Define)\n",
    "    \n",
    "    3.2 [Assesing Tidiness Issue](#3.2.0.-Tidiness-Issues)\n",
    "   \n",
    "       3.2.1 [Issue 1](#3.2.1.-Define)\n",
    "     \n",
    "       3.2.1 [Issue 2](#3.2.2.-Define)\n",
    "     \n",
    "4. [Storing Data](#4.-Storing-Data)\n",
    "\n",
    "5. [Analysis and Visualization](#5.-Analyzing-and-Visualizing-Data)\n",
    "\n",
    "6. [Visualizations](#6.-Visualization)\n",
    " \n",
    "\n",
    "\n",
    "\n",
    "\n",
    "\n",
    "\n",
    "\n",
    "\n",
    "\n",
    "\n",
    "\n",
    "\n",
    "\n",
    "\n",
    "\n",
    "\n",
    "\n",
    "\n",
    "\n",
    "\n",
    "\n"
   ]
  },
  {
   "cell_type": "code",
   "execution_count": 1,
   "metadata": {
    "scrolled": true
   },
   "outputs": [],
   "source": [
    "import pandas as pd\n",
    "import numpy as np\n",
    "import seaborn as sns \n",
    "import matplotlib.pyplot as plt \n",
    "import configparser\n",
    "import json\n",
    "import requests \n",
    "\n",
    "import tweepy\n",
    "import configparser\n",
    "import pandas as pd\n",
    "\n",
    "import matplotlib.style as style\n",
    "\n",
    "pd.reset_option('display.max_rows', None)\n",
    "\n",
    "\n",
    "sns.set_style('whitegrid')\n",
    "style.use('fivethirtyeight')\n",
    "plt.grid(False)\n",
    "\n",
    "%matplotlib inline"
   ]
  },
  {
   "cell_type": "markdown",
   "metadata": {},
   "source": [
    "## 1. Data-Gathering\n",
    "1. Directly downloading the WeRateDogs Twitter archive data"
   ]
  },
  {
   "cell_type": "code",
   "execution_count": 2,
   "metadata": {
    "extensions": {
     "jupyter_dashboards": {
      "version": 1,
      "views": {
       "grid_default": {
        "hidden": true
       },
       "report_default": {
        "hidden": true
       }
      }
     }
    },
    "scrolled": false
   },
   "outputs": [],
   "source": [
    "#reading the twitter archive data \n",
    "tw_archive=pd.read_csv('twitter-archive-enhanced.csv')\n"
   ]
  },
  {
   "cell_type": "markdown",
   "metadata": {},
   "source": [
    "2. Use the Requests library to download the tweet image prediction (image_predictions.tsv)"
   ]
  },
  {
   "cell_type": "code",
   "execution_count": 3,
   "metadata": {},
   "outputs": [],
   "source": [
    "#using the requests library to get data from the web\n",
    "url='https://d17h27t6h515a5.cloudfront.net/topher/2017/August/599fd2ad_image-predictions/image-predictions.tsv'\n",
    "response=requests.get(url)\n",
    "with open('t_images.tsv', mode='w') as file:\n",
    "    file.write(response.text)"
   ]
  },
  {
   "cell_type": "code",
   "execution_count": 4,
   "metadata": {},
   "outputs": [],
   "source": [
    "#reading the twitter images data as csv\n",
    "tw_images=pd.read_csv('t_images.tsv', sep='\\t')"
   ]
  },
  {
   "cell_type": "markdown",
   "metadata": {},
   "source": [
    "3. Use the Tweepy library to query additional data via the Twitter API (tweet_json.txt)"
   ]
  },
  {
   "cell_type": "code",
   "execution_count": 5,
   "metadata": {},
   "outputs": [],
   "source": [
    "#reading the twiiter json file \n",
    "tweets=[]\n",
    "with open('tweet-json.txt','r') as file:\n",
    "    for tweet in file:\n",
    "        data=json.loads(tweet)\n",
    "        tweets.append(data)"
   ]
  },
  {
   "cell_type": "code",
   "execution_count": 6,
   "metadata": {
    "scrolled": true
   },
   "outputs": [],
   "source": [
    "tw_df=pd.DataFrame(tweets, columns=['id', 'retweet_count', 'favorite_count'])"
   ]
  },
  {
   "cell_type": "markdown",
   "metadata": {
    "extensions": {
     "jupyter_dashboards": {
      "version": 1,
      "views": {
       "grid_default": {
        "col": 4,
        "height": 4,
        "hidden": false,
        "row": 28,
        "width": 4
       },
       "report_default": {
        "hidden": false
       }
      }
     }
    }
   },
   "source": [
    "## 2. Assessing-Data\n",
    "In this section, I will detect and document at least **eight (8) quality issues and two (2) tidiness issue**. Using **both** visual assessment and programmatic assessement to assess the data."
   ]
  },
  {
   "cell_type": "code",
   "execution_count": 7,
   "metadata": {
    "scrolled": true
   },
   "outputs": [
    {
     "data": {
      "text/html": [
       "<div>\n",
       "<style scoped>\n",
       "    .dataframe tbody tr th:only-of-type {\n",
       "        vertical-align: middle;\n",
       "    }\n",
       "\n",
       "    .dataframe tbody tr th {\n",
       "        vertical-align: top;\n",
       "    }\n",
       "\n",
       "    .dataframe thead th {\n",
       "        text-align: right;\n",
       "    }\n",
       "</style>\n",
       "<table border=\"1\" class=\"dataframe\">\n",
       "  <thead>\n",
       "    <tr style=\"text-align: right;\">\n",
       "      <th></th>\n",
       "      <th>tweet_id</th>\n",
       "      <th>in_reply_to_status_id</th>\n",
       "      <th>in_reply_to_user_id</th>\n",
       "      <th>timestamp</th>\n",
       "      <th>source</th>\n",
       "      <th>text</th>\n",
       "      <th>retweeted_status_id</th>\n",
       "      <th>retweeted_status_user_id</th>\n",
       "      <th>retweeted_status_timestamp</th>\n",
       "      <th>expanded_urls</th>\n",
       "      <th>rating_numerator</th>\n",
       "      <th>rating_denominator</th>\n",
       "      <th>name</th>\n",
       "      <th>doggo</th>\n",
       "      <th>floofer</th>\n",
       "      <th>pupper</th>\n",
       "      <th>puppo</th>\n",
       "    </tr>\n",
       "  </thead>\n",
       "  <tbody>\n",
       "    <tr>\n",
       "      <th>0</th>\n",
       "      <td>892420643555336193</td>\n",
       "      <td>NaN</td>\n",
       "      <td>NaN</td>\n",
       "      <td>2017-08-01 16:23:56 +0000</td>\n",
       "      <td>&lt;a href=\"http://twitter.com/download/iphone\" r...</td>\n",
       "      <td>This is Phineas. He's a mystical boy. Only eve...</td>\n",
       "      <td>NaN</td>\n",
       "      <td>NaN</td>\n",
       "      <td>NaN</td>\n",
       "      <td>https://twitter.com/dog_rates/status/892420643...</td>\n",
       "      <td>13</td>\n",
       "      <td>10</td>\n",
       "      <td>Phineas</td>\n",
       "      <td>None</td>\n",
       "      <td>None</td>\n",
       "      <td>None</td>\n",
       "      <td>None</td>\n",
       "    </tr>\n",
       "    <tr>\n",
       "      <th>1</th>\n",
       "      <td>892177421306343426</td>\n",
       "      <td>NaN</td>\n",
       "      <td>NaN</td>\n",
       "      <td>2017-08-01 00:17:27 +0000</td>\n",
       "      <td>&lt;a href=\"http://twitter.com/download/iphone\" r...</td>\n",
       "      <td>This is Tilly. She's just checking pup on you....</td>\n",
       "      <td>NaN</td>\n",
       "      <td>NaN</td>\n",
       "      <td>NaN</td>\n",
       "      <td>https://twitter.com/dog_rates/status/892177421...</td>\n",
       "      <td>13</td>\n",
       "      <td>10</td>\n",
       "      <td>Tilly</td>\n",
       "      <td>None</td>\n",
       "      <td>None</td>\n",
       "      <td>None</td>\n",
       "      <td>None</td>\n",
       "    </tr>\n",
       "    <tr>\n",
       "      <th>2</th>\n",
       "      <td>891815181378084864</td>\n",
       "      <td>NaN</td>\n",
       "      <td>NaN</td>\n",
       "      <td>2017-07-31 00:18:03 +0000</td>\n",
       "      <td>&lt;a href=\"http://twitter.com/download/iphone\" r...</td>\n",
       "      <td>This is Archie. He is a rare Norwegian Pouncin...</td>\n",
       "      <td>NaN</td>\n",
       "      <td>NaN</td>\n",
       "      <td>NaN</td>\n",
       "      <td>https://twitter.com/dog_rates/status/891815181...</td>\n",
       "      <td>12</td>\n",
       "      <td>10</td>\n",
       "      <td>Archie</td>\n",
       "      <td>None</td>\n",
       "      <td>None</td>\n",
       "      <td>None</td>\n",
       "      <td>None</td>\n",
       "    </tr>\n",
       "    <tr>\n",
       "      <th>3</th>\n",
       "      <td>891689557279858688</td>\n",
       "      <td>NaN</td>\n",
       "      <td>NaN</td>\n",
       "      <td>2017-07-30 15:58:51 +0000</td>\n",
       "      <td>&lt;a href=\"http://twitter.com/download/iphone\" r...</td>\n",
       "      <td>This is Darla. She commenced a snooze mid meal...</td>\n",
       "      <td>NaN</td>\n",
       "      <td>NaN</td>\n",
       "      <td>NaN</td>\n",
       "      <td>https://twitter.com/dog_rates/status/891689557...</td>\n",
       "      <td>13</td>\n",
       "      <td>10</td>\n",
       "      <td>Darla</td>\n",
       "      <td>None</td>\n",
       "      <td>None</td>\n",
       "      <td>None</td>\n",
       "      <td>None</td>\n",
       "    </tr>\n",
       "    <tr>\n",
       "      <th>4</th>\n",
       "      <td>891327558926688256</td>\n",
       "      <td>NaN</td>\n",
       "      <td>NaN</td>\n",
       "      <td>2017-07-29 16:00:24 +0000</td>\n",
       "      <td>&lt;a href=\"http://twitter.com/download/iphone\" r...</td>\n",
       "      <td>This is Franklin. He would like you to stop ca...</td>\n",
       "      <td>NaN</td>\n",
       "      <td>NaN</td>\n",
       "      <td>NaN</td>\n",
       "      <td>https://twitter.com/dog_rates/status/891327558...</td>\n",
       "      <td>12</td>\n",
       "      <td>10</td>\n",
       "      <td>Franklin</td>\n",
       "      <td>None</td>\n",
       "      <td>None</td>\n",
       "      <td>None</td>\n",
       "      <td>None</td>\n",
       "    </tr>\n",
       "  </tbody>\n",
       "</table>\n",
       "</div>"
      ],
      "text/plain": [
       "             tweet_id  in_reply_to_status_id  in_reply_to_user_id  \\\n",
       "0  892420643555336193                    NaN                  NaN   \n",
       "1  892177421306343426                    NaN                  NaN   \n",
       "2  891815181378084864                    NaN                  NaN   \n",
       "3  891689557279858688                    NaN                  NaN   \n",
       "4  891327558926688256                    NaN                  NaN   \n",
       "\n",
       "                   timestamp  \\\n",
       "0  2017-08-01 16:23:56 +0000   \n",
       "1  2017-08-01 00:17:27 +0000   \n",
       "2  2017-07-31 00:18:03 +0000   \n",
       "3  2017-07-30 15:58:51 +0000   \n",
       "4  2017-07-29 16:00:24 +0000   \n",
       "\n",
       "                                              source  \\\n",
       "0  <a href=\"http://twitter.com/download/iphone\" r...   \n",
       "1  <a href=\"http://twitter.com/download/iphone\" r...   \n",
       "2  <a href=\"http://twitter.com/download/iphone\" r...   \n",
       "3  <a href=\"http://twitter.com/download/iphone\" r...   \n",
       "4  <a href=\"http://twitter.com/download/iphone\" r...   \n",
       "\n",
       "                                                text  retweeted_status_id  \\\n",
       "0  This is Phineas. He's a mystical boy. Only eve...                  NaN   \n",
       "1  This is Tilly. She's just checking pup on you....                  NaN   \n",
       "2  This is Archie. He is a rare Norwegian Pouncin...                  NaN   \n",
       "3  This is Darla. She commenced a snooze mid meal...                  NaN   \n",
       "4  This is Franklin. He would like you to stop ca...                  NaN   \n",
       "\n",
       "   retweeted_status_user_id retweeted_status_timestamp  \\\n",
       "0                       NaN                        NaN   \n",
       "1                       NaN                        NaN   \n",
       "2                       NaN                        NaN   \n",
       "3                       NaN                        NaN   \n",
       "4                       NaN                        NaN   \n",
       "\n",
       "                                       expanded_urls  rating_numerator  \\\n",
       "0  https://twitter.com/dog_rates/status/892420643...                13   \n",
       "1  https://twitter.com/dog_rates/status/892177421...                13   \n",
       "2  https://twitter.com/dog_rates/status/891815181...                12   \n",
       "3  https://twitter.com/dog_rates/status/891689557...                13   \n",
       "4  https://twitter.com/dog_rates/status/891327558...                12   \n",
       "\n",
       "   rating_denominator      name doggo floofer pupper puppo  \n",
       "0                  10   Phineas  None    None   None  None  \n",
       "1                  10     Tilly  None    None   None  None  \n",
       "2                  10    Archie  None    None   None  None  \n",
       "3                  10     Darla  None    None   None  None  \n",
       "4                  10  Franklin  None    None   None  None  "
      ]
     },
     "execution_count": 7,
     "metadata": {},
     "output_type": "execute_result"
    }
   ],
   "source": [
    "#having a look at first five rows of the twitter archive data\n",
    "tw_archive.head()"
   ]
  },
  {
   "cell_type": "code",
   "execution_count": 8,
   "metadata": {},
   "outputs": [
    {
     "data": {
      "text/html": [
       "<div>\n",
       "<style scoped>\n",
       "    .dataframe tbody tr th:only-of-type {\n",
       "        vertical-align: middle;\n",
       "    }\n",
       "\n",
       "    .dataframe tbody tr th {\n",
       "        vertical-align: top;\n",
       "    }\n",
       "\n",
       "    .dataframe thead th {\n",
       "        text-align: right;\n",
       "    }\n",
       "</style>\n",
       "<table border=\"1\" class=\"dataframe\">\n",
       "  <thead>\n",
       "    <tr style=\"text-align: right;\">\n",
       "      <th></th>\n",
       "      <th>tweet_id</th>\n",
       "      <th>in_reply_to_status_id</th>\n",
       "      <th>in_reply_to_user_id</th>\n",
       "      <th>timestamp</th>\n",
       "      <th>source</th>\n",
       "      <th>text</th>\n",
       "      <th>retweeted_status_id</th>\n",
       "      <th>retweeted_status_user_id</th>\n",
       "      <th>retweeted_status_timestamp</th>\n",
       "      <th>expanded_urls</th>\n",
       "      <th>rating_numerator</th>\n",
       "      <th>rating_denominator</th>\n",
       "      <th>name</th>\n",
       "      <th>doggo</th>\n",
       "      <th>floofer</th>\n",
       "      <th>pupper</th>\n",
       "      <th>puppo</th>\n",
       "    </tr>\n",
       "  </thead>\n",
       "  <tbody>\n",
       "    <tr>\n",
       "      <th>1997</th>\n",
       "      <td>672591271085670400</td>\n",
       "      <td>NaN</td>\n",
       "      <td>NaN</td>\n",
       "      <td>2015-12-04 01:40:29 +0000</td>\n",
       "      <td>&lt;a href=\"http://twitter.com/download/iphone\" r...</td>\n",
       "      <td>Lots of pups here. All are Judea Hazelnuts. Ex...</td>\n",
       "      <td>NaN</td>\n",
       "      <td>NaN</td>\n",
       "      <td>NaN</td>\n",
       "      <td>https://twitter.com/dog_rates/status/672591271...</td>\n",
       "      <td>8</td>\n",
       "      <td>10</td>\n",
       "      <td>None</td>\n",
       "      <td>None</td>\n",
       "      <td>None</td>\n",
       "      <td>None</td>\n",
       "      <td>None</td>\n",
       "    </tr>\n",
       "    <tr>\n",
       "      <th>1174</th>\n",
       "      <td>720059472081784833</td>\n",
       "      <td>NaN</td>\n",
       "      <td>NaN</td>\n",
       "      <td>2016-04-13 01:22:10 +0000</td>\n",
       "      <td>&lt;a href=\"http://twitter.com/download/iphone\" r...</td>\n",
       "      <td>This is Charleson. He lost his plunger. Looked...</td>\n",
       "      <td>NaN</td>\n",
       "      <td>NaN</td>\n",
       "      <td>NaN</td>\n",
       "      <td>https://twitter.com/dog_rates/status/720059472...</td>\n",
       "      <td>9</td>\n",
       "      <td>10</td>\n",
       "      <td>Charleson</td>\n",
       "      <td>None</td>\n",
       "      <td>None</td>\n",
       "      <td>None</td>\n",
       "      <td>None</td>\n",
       "    </tr>\n",
       "    <tr>\n",
       "      <th>1229</th>\n",
       "      <td>713761197720473600</td>\n",
       "      <td>NaN</td>\n",
       "      <td>NaN</td>\n",
       "      <td>2016-03-26 16:15:05 +0000</td>\n",
       "      <td>&lt;a href=\"http://twitter.com/download/iphone\" r...</td>\n",
       "      <td>This is Piper. She would really like that tenn...</td>\n",
       "      <td>NaN</td>\n",
       "      <td>NaN</td>\n",
       "      <td>NaN</td>\n",
       "      <td>https://twitter.com/dog_rates/status/713761197...</td>\n",
       "      <td>12</td>\n",
       "      <td>10</td>\n",
       "      <td>Piper</td>\n",
       "      <td>None</td>\n",
       "      <td>None</td>\n",
       "      <td>None</td>\n",
       "      <td>None</td>\n",
       "    </tr>\n",
       "    <tr>\n",
       "      <th>1455</th>\n",
       "      <td>695409464418041856</td>\n",
       "      <td>NaN</td>\n",
       "      <td>NaN</td>\n",
       "      <td>2016-02-05 00:51:51 +0000</td>\n",
       "      <td>&lt;a href=\"http://twitter.com/download/iphone\" r...</td>\n",
       "      <td>This is Bob. He just got back from his job int...</td>\n",
       "      <td>NaN</td>\n",
       "      <td>NaN</td>\n",
       "      <td>NaN</td>\n",
       "      <td>https://twitter.com/dog_rates/status/695409464...</td>\n",
       "      <td>10</td>\n",
       "      <td>10</td>\n",
       "      <td>Bob</td>\n",
       "      <td>None</td>\n",
       "      <td>None</td>\n",
       "      <td>None</td>\n",
       "      <td>None</td>\n",
       "    </tr>\n",
       "    <tr>\n",
       "      <th>1629</th>\n",
       "      <td>684567543613382656</td>\n",
       "      <td>NaN</td>\n",
       "      <td>NaN</td>\n",
       "      <td>2016-01-06 02:49:55 +0000</td>\n",
       "      <td>&lt;a href=\"http://twitter.com/download/iphone\" r...</td>\n",
       "      <td>This is Bobby. He doesn't give a damn about pe...</td>\n",
       "      <td>NaN</td>\n",
       "      <td>NaN</td>\n",
       "      <td>NaN</td>\n",
       "      <td>https://twitter.com/dog_rates/status/684567543...</td>\n",
       "      <td>4</td>\n",
       "      <td>10</td>\n",
       "      <td>Bobby</td>\n",
       "      <td>None</td>\n",
       "      <td>None</td>\n",
       "      <td>None</td>\n",
       "      <td>None</td>\n",
       "    </tr>\n",
       "  </tbody>\n",
       "</table>\n",
       "</div>"
      ],
      "text/plain": [
       "                tweet_id  in_reply_to_status_id  in_reply_to_user_id  \\\n",
       "1997  672591271085670400                    NaN                  NaN   \n",
       "1174  720059472081784833                    NaN                  NaN   \n",
       "1229  713761197720473600                    NaN                  NaN   \n",
       "1455  695409464418041856                    NaN                  NaN   \n",
       "1629  684567543613382656                    NaN                  NaN   \n",
       "\n",
       "                      timestamp  \\\n",
       "1997  2015-12-04 01:40:29 +0000   \n",
       "1174  2016-04-13 01:22:10 +0000   \n",
       "1229  2016-03-26 16:15:05 +0000   \n",
       "1455  2016-02-05 00:51:51 +0000   \n",
       "1629  2016-01-06 02:49:55 +0000   \n",
       "\n",
       "                                                 source  \\\n",
       "1997  <a href=\"http://twitter.com/download/iphone\" r...   \n",
       "1174  <a href=\"http://twitter.com/download/iphone\" r...   \n",
       "1229  <a href=\"http://twitter.com/download/iphone\" r...   \n",
       "1455  <a href=\"http://twitter.com/download/iphone\" r...   \n",
       "1629  <a href=\"http://twitter.com/download/iphone\" r...   \n",
       "\n",
       "                                                   text  retweeted_status_id  \\\n",
       "1997  Lots of pups here. All are Judea Hazelnuts. Ex...                  NaN   \n",
       "1174  This is Charleson. He lost his plunger. Looked...                  NaN   \n",
       "1229  This is Piper. She would really like that tenn...                  NaN   \n",
       "1455  This is Bob. He just got back from his job int...                  NaN   \n",
       "1629  This is Bobby. He doesn't give a damn about pe...                  NaN   \n",
       "\n",
       "      retweeted_status_user_id retweeted_status_timestamp  \\\n",
       "1997                       NaN                        NaN   \n",
       "1174                       NaN                        NaN   \n",
       "1229                       NaN                        NaN   \n",
       "1455                       NaN                        NaN   \n",
       "1629                       NaN                        NaN   \n",
       "\n",
       "                                          expanded_urls  rating_numerator  \\\n",
       "1997  https://twitter.com/dog_rates/status/672591271...                 8   \n",
       "1174  https://twitter.com/dog_rates/status/720059472...                 9   \n",
       "1229  https://twitter.com/dog_rates/status/713761197...                12   \n",
       "1455  https://twitter.com/dog_rates/status/695409464...                10   \n",
       "1629  https://twitter.com/dog_rates/status/684567543...                 4   \n",
       "\n",
       "      rating_denominator       name doggo floofer pupper puppo  \n",
       "1997                  10       None  None    None   None  None  \n",
       "1174                  10  Charleson  None    None   None  None  \n",
       "1229                  10      Piper  None    None   None  None  \n",
       "1455                  10        Bob  None    None   None  None  \n",
       "1629                  10      Bobby  None    None   None  None  "
      ]
     },
     "execution_count": 8,
     "metadata": {},
     "output_type": "execute_result"
    }
   ],
   "source": [
    "tw_archive.sample(5)"
   ]
  },
  {
   "cell_type": "code",
   "execution_count": 9,
   "metadata": {},
   "outputs": [
    {
     "name": "stdout",
     "output_type": "stream",
     "text": [
      "<class 'pandas.core.frame.DataFrame'>\n",
      "RangeIndex: 2356 entries, 0 to 2355\n",
      "Data columns (total 17 columns):\n",
      " #   Column                      Non-Null Count  Dtype  \n",
      "---  ------                      --------------  -----  \n",
      " 0   tweet_id                    2356 non-null   int64  \n",
      " 1   in_reply_to_status_id       78 non-null     float64\n",
      " 2   in_reply_to_user_id         78 non-null     float64\n",
      " 3   timestamp                   2356 non-null   object \n",
      " 4   source                      2356 non-null   object \n",
      " 5   text                        2356 non-null   object \n",
      " 6   retweeted_status_id         181 non-null    float64\n",
      " 7   retweeted_status_user_id    181 non-null    float64\n",
      " 8   retweeted_status_timestamp  181 non-null    object \n",
      " 9   expanded_urls               2297 non-null   object \n",
      " 10  rating_numerator            2356 non-null   int64  \n",
      " 11  rating_denominator          2356 non-null   int64  \n",
      " 12  name                        2356 non-null   object \n",
      " 13  doggo                       2356 non-null   object \n",
      " 14  floofer                     2356 non-null   object \n",
      " 15  pupper                      2356 non-null   object \n",
      " 16  puppo                       2356 non-null   object \n",
      "dtypes: float64(4), int64(3), object(10)\n",
      "memory usage: 313.0+ KB\n"
     ]
    }
   ],
   "source": [
    "#consice summary on the tweets archive data \n",
    "tw_archive.info()"
   ]
  },
  {
   "cell_type": "code",
   "execution_count": 10,
   "metadata": {},
   "outputs": [
    {
     "data": {
      "text/html": [
       "<div>\n",
       "<style scoped>\n",
       "    .dataframe tbody tr th:only-of-type {\n",
       "        vertical-align: middle;\n",
       "    }\n",
       "\n",
       "    .dataframe tbody tr th {\n",
       "        vertical-align: top;\n",
       "    }\n",
       "\n",
       "    .dataframe thead th {\n",
       "        text-align: right;\n",
       "    }\n",
       "</style>\n",
       "<table border=\"1\" class=\"dataframe\">\n",
       "  <thead>\n",
       "    <tr style=\"text-align: right;\">\n",
       "      <th></th>\n",
       "      <th>tweet_id</th>\n",
       "      <th>in_reply_to_status_id</th>\n",
       "      <th>in_reply_to_user_id</th>\n",
       "      <th>retweeted_status_id</th>\n",
       "      <th>retweeted_status_user_id</th>\n",
       "      <th>rating_numerator</th>\n",
       "      <th>rating_denominator</th>\n",
       "    </tr>\n",
       "  </thead>\n",
       "  <tbody>\n",
       "    <tr>\n",
       "      <th>count</th>\n",
       "      <td>2.356000e+03</td>\n",
       "      <td>7.800000e+01</td>\n",
       "      <td>7.800000e+01</td>\n",
       "      <td>1.810000e+02</td>\n",
       "      <td>1.810000e+02</td>\n",
       "      <td>2356.000000</td>\n",
       "      <td>2356.000000</td>\n",
       "    </tr>\n",
       "    <tr>\n",
       "      <th>mean</th>\n",
       "      <td>7.427716e+17</td>\n",
       "      <td>7.455079e+17</td>\n",
       "      <td>2.014171e+16</td>\n",
       "      <td>7.720400e+17</td>\n",
       "      <td>1.241698e+16</td>\n",
       "      <td>13.126486</td>\n",
       "      <td>10.455433</td>\n",
       "    </tr>\n",
       "    <tr>\n",
       "      <th>std</th>\n",
       "      <td>6.856705e+16</td>\n",
       "      <td>7.582492e+16</td>\n",
       "      <td>1.252797e+17</td>\n",
       "      <td>6.236928e+16</td>\n",
       "      <td>9.599254e+16</td>\n",
       "      <td>45.876648</td>\n",
       "      <td>6.745237</td>\n",
       "    </tr>\n",
       "    <tr>\n",
       "      <th>min</th>\n",
       "      <td>6.660209e+17</td>\n",
       "      <td>6.658147e+17</td>\n",
       "      <td>1.185634e+07</td>\n",
       "      <td>6.661041e+17</td>\n",
       "      <td>7.832140e+05</td>\n",
       "      <td>0.000000</td>\n",
       "      <td>0.000000</td>\n",
       "    </tr>\n",
       "    <tr>\n",
       "      <th>25%</th>\n",
       "      <td>6.783989e+17</td>\n",
       "      <td>6.757419e+17</td>\n",
       "      <td>3.086374e+08</td>\n",
       "      <td>7.186315e+17</td>\n",
       "      <td>4.196984e+09</td>\n",
       "      <td>10.000000</td>\n",
       "      <td>10.000000</td>\n",
       "    </tr>\n",
       "    <tr>\n",
       "      <th>50%</th>\n",
       "      <td>7.196279e+17</td>\n",
       "      <td>7.038708e+17</td>\n",
       "      <td>4.196984e+09</td>\n",
       "      <td>7.804657e+17</td>\n",
       "      <td>4.196984e+09</td>\n",
       "      <td>11.000000</td>\n",
       "      <td>10.000000</td>\n",
       "    </tr>\n",
       "    <tr>\n",
       "      <th>75%</th>\n",
       "      <td>7.993373e+17</td>\n",
       "      <td>8.257804e+17</td>\n",
       "      <td>4.196984e+09</td>\n",
       "      <td>8.203146e+17</td>\n",
       "      <td>4.196984e+09</td>\n",
       "      <td>12.000000</td>\n",
       "      <td>10.000000</td>\n",
       "    </tr>\n",
       "    <tr>\n",
       "      <th>max</th>\n",
       "      <td>8.924206e+17</td>\n",
       "      <td>8.862664e+17</td>\n",
       "      <td>8.405479e+17</td>\n",
       "      <td>8.874740e+17</td>\n",
       "      <td>7.874618e+17</td>\n",
       "      <td>1776.000000</td>\n",
       "      <td>170.000000</td>\n",
       "    </tr>\n",
       "  </tbody>\n",
       "</table>\n",
       "</div>"
      ],
      "text/plain": [
       "           tweet_id  in_reply_to_status_id  in_reply_to_user_id  \\\n",
       "count  2.356000e+03           7.800000e+01         7.800000e+01   \n",
       "mean   7.427716e+17           7.455079e+17         2.014171e+16   \n",
       "std    6.856705e+16           7.582492e+16         1.252797e+17   \n",
       "min    6.660209e+17           6.658147e+17         1.185634e+07   \n",
       "25%    6.783989e+17           6.757419e+17         3.086374e+08   \n",
       "50%    7.196279e+17           7.038708e+17         4.196984e+09   \n",
       "75%    7.993373e+17           8.257804e+17         4.196984e+09   \n",
       "max    8.924206e+17           8.862664e+17         8.405479e+17   \n",
       "\n",
       "       retweeted_status_id  retweeted_status_user_id  rating_numerator  \\\n",
       "count         1.810000e+02              1.810000e+02       2356.000000   \n",
       "mean          7.720400e+17              1.241698e+16         13.126486   \n",
       "std           6.236928e+16              9.599254e+16         45.876648   \n",
       "min           6.661041e+17              7.832140e+05          0.000000   \n",
       "25%           7.186315e+17              4.196984e+09         10.000000   \n",
       "50%           7.804657e+17              4.196984e+09         11.000000   \n",
       "75%           8.203146e+17              4.196984e+09         12.000000   \n",
       "max           8.874740e+17              7.874618e+17       1776.000000   \n",
       "\n",
       "       rating_denominator  \n",
       "count         2356.000000  \n",
       "mean            10.455433  \n",
       "std              6.745237  \n",
       "min              0.000000  \n",
       "25%             10.000000  \n",
       "50%             10.000000  \n",
       "75%             10.000000  \n",
       "max            170.000000  "
      ]
     },
     "execution_count": 10,
     "metadata": {},
     "output_type": "execute_result"
    }
   ],
   "source": [
    "#descriptive statistics of the tweets archive \n",
    "tw_archive.describe()"
   ]
  },
  {
   "cell_type": "code",
   "execution_count": 11,
   "metadata": {
    "scrolled": true
   },
   "outputs": [
    {
     "data": {
      "text/html": [
       "<div>\n",
       "<style scoped>\n",
       "    .dataframe tbody tr th:only-of-type {\n",
       "        vertical-align: middle;\n",
       "    }\n",
       "\n",
       "    .dataframe tbody tr th {\n",
       "        vertical-align: top;\n",
       "    }\n",
       "\n",
       "    .dataframe thead th {\n",
       "        text-align: right;\n",
       "    }\n",
       "</style>\n",
       "<table border=\"1\" class=\"dataframe\">\n",
       "  <thead>\n",
       "    <tr style=\"text-align: right;\">\n",
       "      <th></th>\n",
       "      <th>timestamp</th>\n",
       "      <th>source</th>\n",
       "      <th>text</th>\n",
       "      <th>retweeted_status_timestamp</th>\n",
       "      <th>expanded_urls</th>\n",
       "      <th>name</th>\n",
       "      <th>doggo</th>\n",
       "      <th>floofer</th>\n",
       "      <th>pupper</th>\n",
       "      <th>puppo</th>\n",
       "    </tr>\n",
       "  </thead>\n",
       "  <tbody>\n",
       "    <tr>\n",
       "      <th>count</th>\n",
       "      <td>2356</td>\n",
       "      <td>2356</td>\n",
       "      <td>2356</td>\n",
       "      <td>181</td>\n",
       "      <td>2297</td>\n",
       "      <td>2356</td>\n",
       "      <td>2356</td>\n",
       "      <td>2356</td>\n",
       "      <td>2356</td>\n",
       "      <td>2356</td>\n",
       "    </tr>\n",
       "    <tr>\n",
       "      <th>unique</th>\n",
       "      <td>2356</td>\n",
       "      <td>4</td>\n",
       "      <td>2356</td>\n",
       "      <td>181</td>\n",
       "      <td>2218</td>\n",
       "      <td>957</td>\n",
       "      <td>2</td>\n",
       "      <td>2</td>\n",
       "      <td>2</td>\n",
       "      <td>2</td>\n",
       "    </tr>\n",
       "    <tr>\n",
       "      <th>top</th>\n",
       "      <td>2017-08-01 16:23:56 +0000</td>\n",
       "      <td>&lt;a href=\"http://twitter.com/download/iphone\" r...</td>\n",
       "      <td>This is Phineas. He's a mystical boy. Only eve...</td>\n",
       "      <td>2017-07-19 00:47:34 +0000</td>\n",
       "      <td>https://twitter.com/dog_rates/status/667152164...</td>\n",
       "      <td>None</td>\n",
       "      <td>None</td>\n",
       "      <td>None</td>\n",
       "      <td>None</td>\n",
       "      <td>None</td>\n",
       "    </tr>\n",
       "    <tr>\n",
       "      <th>freq</th>\n",
       "      <td>1</td>\n",
       "      <td>2221</td>\n",
       "      <td>1</td>\n",
       "      <td>1</td>\n",
       "      <td>2</td>\n",
       "      <td>745</td>\n",
       "      <td>2259</td>\n",
       "      <td>2346</td>\n",
       "      <td>2099</td>\n",
       "      <td>2326</td>\n",
       "    </tr>\n",
       "  </tbody>\n",
       "</table>\n",
       "</div>"
      ],
      "text/plain": [
       "                        timestamp  \\\n",
       "count                        2356   \n",
       "unique                       2356   \n",
       "top     2017-08-01 16:23:56 +0000   \n",
       "freq                            1   \n",
       "\n",
       "                                                   source  \\\n",
       "count                                                2356   \n",
       "unique                                                  4   \n",
       "top     <a href=\"http://twitter.com/download/iphone\" r...   \n",
       "freq                                                 2221   \n",
       "\n",
       "                                                     text  \\\n",
       "count                                                2356   \n",
       "unique                                               2356   \n",
       "top     This is Phineas. He's a mystical boy. Only eve...   \n",
       "freq                                                    1   \n",
       "\n",
       "       retweeted_status_timestamp  \\\n",
       "count                         181   \n",
       "unique                        181   \n",
       "top     2017-07-19 00:47:34 +0000   \n",
       "freq                            1   \n",
       "\n",
       "                                            expanded_urls  name doggo floofer  \\\n",
       "count                                                2297  2356  2356    2356   \n",
       "unique                                               2218   957     2       2   \n",
       "top     https://twitter.com/dog_rates/status/667152164...  None  None    None   \n",
       "freq                                                    2   745  2259    2346   \n",
       "\n",
       "       pupper puppo  \n",
       "count    2356  2356  \n",
       "unique      2     2  \n",
       "top      None  None  \n",
       "freq     2099  2326  "
      ]
     },
     "execution_count": 11,
     "metadata": {},
     "output_type": "execute_result"
    }
   ],
   "source": [
    "#descriptive statistics of categorical variables in the tweets archive \n",
    "tw_archive.describe(include=object)"
   ]
  },
  {
   "cell_type": "code",
   "execution_count": 12,
   "metadata": {
    "scrolled": true
   },
   "outputs": [
    {
     "data": {
      "text/plain": [
       "<a href=\"http://twitter.com/download/iphone\" rel=\"nofollow\">Twitter for iPhone</a>     2221\n",
       "<a href=\"http://vine.co\" rel=\"nofollow\">Vine - Make a Scene</a>                          91\n",
       "<a href=\"http://twitter.com\" rel=\"nofollow\">Twitter Web Client</a>                       33\n",
       "<a href=\"https://about.twitter.com/products/tweetdeck\" rel=\"nofollow\">TweetDeck</a>      11\n",
       "Name: source, dtype: int64"
      ]
     },
     "execution_count": 12,
     "metadata": {},
     "output_type": "execute_result"
    }
   ],
   "source": [
    "#looking at the unique variables in the source column \n",
    "tw_archive['source'].value_counts()"
   ]
  },
  {
   "cell_type": "code",
   "execution_count": 13,
   "metadata": {},
   "outputs": [
    {
     "data": {
      "text/plain": [
       "0"
      ]
     },
     "execution_count": 13,
     "metadata": {},
     "output_type": "execute_result"
    }
   ],
   "source": [
    "#checking for duplicated records \n",
    "tw_archive.duplicated().sum()"
   ]
  },
  {
   "cell_type": "code",
   "execution_count": 14,
   "metadata": {},
   "outputs": [
    {
     "data": {
      "text/plain": [
       "tweet_id                       0.00\n",
       "in_reply_to_status_id         84.37\n",
       "in_reply_to_user_id           84.37\n",
       "timestamp                      0.00\n",
       "source                         0.00\n",
       "text                           0.00\n",
       "retweeted_status_id           80.56\n",
       "retweeted_status_user_id      80.56\n",
       "retweeted_status_timestamp    80.56\n",
       "expanded_urls                  2.19\n",
       "rating_numerator               0.00\n",
       "rating_denominator             0.00\n",
       "name                           0.00\n",
       "doggo                          0.00\n",
       "floofer                        0.00\n",
       "pupper                         0.00\n",
       "puppo                          0.00\n",
       "dtype: float64"
      ]
     },
     "execution_count": 14,
     "metadata": {},
     "output_type": "execute_result"
    }
   ],
   "source": [
    "#checking for missing values \n",
    "(tw_archive.isnull().sum()/len(data)).round(2)"
   ]
  },
  {
   "cell_type": "code",
   "execution_count": 15,
   "metadata": {
    "scrolled": true
   },
   "outputs": [
    {
     "data": {
      "text/plain": [
       "name    \n",
       "None        745\n",
       "a            55\n",
       "Charlie      12\n",
       "Cooper       11\n",
       "Oliver       11\n",
       "           ... \n",
       "Kramer        1\n",
       "Cheesy        1\n",
       "Chaz          1\n",
       "Kulet         1\n",
       "Kingsley      1\n",
       "Length: 957, dtype: int64"
      ]
     },
     "execution_count": 15,
     "metadata": {},
     "output_type": "execute_result"
    }
   ],
   "source": [
    "#looking at the unique names in the name column\n",
    "tw_archive[['name']].value_counts()\n"
   ]
  },
  {
   "cell_type": "code",
   "execution_count": 16,
   "metadata": {},
   "outputs": [
    {
     "data": {
      "text/html": [
       "<div>\n",
       "<style scoped>\n",
       "    .dataframe tbody tr th:only-of-type {\n",
       "        vertical-align: middle;\n",
       "    }\n",
       "\n",
       "    .dataframe tbody tr th {\n",
       "        vertical-align: top;\n",
       "    }\n",
       "\n",
       "    .dataframe thead th {\n",
       "        text-align: right;\n",
       "    }\n",
       "</style>\n",
       "<table border=\"1\" class=\"dataframe\">\n",
       "  <thead>\n",
       "    <tr style=\"text-align: right;\">\n",
       "      <th></th>\n",
       "      <th>tweet_id</th>\n",
       "      <th>jpg_url</th>\n",
       "      <th>img_num</th>\n",
       "      <th>p1</th>\n",
       "      <th>p1_conf</th>\n",
       "      <th>p1_dog</th>\n",
       "      <th>p2</th>\n",
       "      <th>p2_conf</th>\n",
       "      <th>p2_dog</th>\n",
       "      <th>p3</th>\n",
       "      <th>p3_conf</th>\n",
       "      <th>p3_dog</th>\n",
       "    </tr>\n",
       "  </thead>\n",
       "  <tbody>\n",
       "    <tr>\n",
       "      <th>0</th>\n",
       "      <td>666020888022790149</td>\n",
       "      <td>https://pbs.twimg.com/media/CT4udn0WwAA0aMy.jpg</td>\n",
       "      <td>1</td>\n",
       "      <td>Welsh_springer_spaniel</td>\n",
       "      <td>0.465074</td>\n",
       "      <td>True</td>\n",
       "      <td>collie</td>\n",
       "      <td>0.156665</td>\n",
       "      <td>True</td>\n",
       "      <td>Shetland_sheepdog</td>\n",
       "      <td>0.061428</td>\n",
       "      <td>True</td>\n",
       "    </tr>\n",
       "    <tr>\n",
       "      <th>1</th>\n",
       "      <td>666029285002620928</td>\n",
       "      <td>https://pbs.twimg.com/media/CT42GRgUYAA5iDo.jpg</td>\n",
       "      <td>1</td>\n",
       "      <td>redbone</td>\n",
       "      <td>0.506826</td>\n",
       "      <td>True</td>\n",
       "      <td>miniature_pinscher</td>\n",
       "      <td>0.074192</td>\n",
       "      <td>True</td>\n",
       "      <td>Rhodesian_ridgeback</td>\n",
       "      <td>0.072010</td>\n",
       "      <td>True</td>\n",
       "    </tr>\n",
       "    <tr>\n",
       "      <th>2</th>\n",
       "      <td>666033412701032449</td>\n",
       "      <td>https://pbs.twimg.com/media/CT4521TWwAEvMyu.jpg</td>\n",
       "      <td>1</td>\n",
       "      <td>German_shepherd</td>\n",
       "      <td>0.596461</td>\n",
       "      <td>True</td>\n",
       "      <td>malinois</td>\n",
       "      <td>0.138584</td>\n",
       "      <td>True</td>\n",
       "      <td>bloodhound</td>\n",
       "      <td>0.116197</td>\n",
       "      <td>True</td>\n",
       "    </tr>\n",
       "    <tr>\n",
       "      <th>3</th>\n",
       "      <td>666044226329800704</td>\n",
       "      <td>https://pbs.twimg.com/media/CT5Dr8HUEAA-lEu.jpg</td>\n",
       "      <td>1</td>\n",
       "      <td>Rhodesian_ridgeback</td>\n",
       "      <td>0.408143</td>\n",
       "      <td>True</td>\n",
       "      <td>redbone</td>\n",
       "      <td>0.360687</td>\n",
       "      <td>True</td>\n",
       "      <td>miniature_pinscher</td>\n",
       "      <td>0.222752</td>\n",
       "      <td>True</td>\n",
       "    </tr>\n",
       "    <tr>\n",
       "      <th>4</th>\n",
       "      <td>666049248165822465</td>\n",
       "      <td>https://pbs.twimg.com/media/CT5IQmsXIAAKY4A.jpg</td>\n",
       "      <td>1</td>\n",
       "      <td>miniature_pinscher</td>\n",
       "      <td>0.560311</td>\n",
       "      <td>True</td>\n",
       "      <td>Rottweiler</td>\n",
       "      <td>0.243682</td>\n",
       "      <td>True</td>\n",
       "      <td>Doberman</td>\n",
       "      <td>0.154629</td>\n",
       "      <td>True</td>\n",
       "    </tr>\n",
       "  </tbody>\n",
       "</table>\n",
       "</div>"
      ],
      "text/plain": [
       "             tweet_id                                          jpg_url  \\\n",
       "0  666020888022790149  https://pbs.twimg.com/media/CT4udn0WwAA0aMy.jpg   \n",
       "1  666029285002620928  https://pbs.twimg.com/media/CT42GRgUYAA5iDo.jpg   \n",
       "2  666033412701032449  https://pbs.twimg.com/media/CT4521TWwAEvMyu.jpg   \n",
       "3  666044226329800704  https://pbs.twimg.com/media/CT5Dr8HUEAA-lEu.jpg   \n",
       "4  666049248165822465  https://pbs.twimg.com/media/CT5IQmsXIAAKY4A.jpg   \n",
       "\n",
       "   img_num                      p1   p1_conf  p1_dog                  p2  \\\n",
       "0        1  Welsh_springer_spaniel  0.465074    True              collie   \n",
       "1        1                 redbone  0.506826    True  miniature_pinscher   \n",
       "2        1         German_shepherd  0.596461    True            malinois   \n",
       "3        1     Rhodesian_ridgeback  0.408143    True             redbone   \n",
       "4        1      miniature_pinscher  0.560311    True          Rottweiler   \n",
       "\n",
       "    p2_conf  p2_dog                   p3   p3_conf  p3_dog  \n",
       "0  0.156665    True    Shetland_sheepdog  0.061428    True  \n",
       "1  0.074192    True  Rhodesian_ridgeback  0.072010    True  \n",
       "2  0.138584    True           bloodhound  0.116197    True  \n",
       "3  0.360687    True   miniature_pinscher  0.222752    True  \n",
       "4  0.243682    True             Doberman  0.154629    True  "
      ]
     },
     "execution_count": 16,
     "metadata": {},
     "output_type": "execute_result"
    }
   ],
   "source": [
    "#assessing the twitter images data \n",
    "tw_images.head()"
   ]
  },
  {
   "cell_type": "code",
   "execution_count": 17,
   "metadata": {},
   "outputs": [
    {
     "data": {
      "text/html": [
       "<div>\n",
       "<style scoped>\n",
       "    .dataframe tbody tr th:only-of-type {\n",
       "        vertical-align: middle;\n",
       "    }\n",
       "\n",
       "    .dataframe tbody tr th {\n",
       "        vertical-align: top;\n",
       "    }\n",
       "\n",
       "    .dataframe thead th {\n",
       "        text-align: right;\n",
       "    }\n",
       "</style>\n",
       "<table border=\"1\" class=\"dataframe\">\n",
       "  <thead>\n",
       "    <tr style=\"text-align: right;\">\n",
       "      <th></th>\n",
       "      <th>tweet_id</th>\n",
       "      <th>jpg_url</th>\n",
       "      <th>img_num</th>\n",
       "      <th>p1</th>\n",
       "      <th>p1_conf</th>\n",
       "      <th>p1_dog</th>\n",
       "      <th>p2</th>\n",
       "      <th>p2_conf</th>\n",
       "      <th>p2_dog</th>\n",
       "      <th>p3</th>\n",
       "      <th>p3_conf</th>\n",
       "      <th>p3_dog</th>\n",
       "    </tr>\n",
       "  </thead>\n",
       "  <tbody>\n",
       "    <tr>\n",
       "      <th>198</th>\n",
       "      <td>669625907762618368</td>\n",
       "      <td>https://pbs.twimg.com/media/CUr9NjgU8AEpf5w.jpg</td>\n",
       "      <td>1</td>\n",
       "      <td>seat_belt</td>\n",
       "      <td>0.874502</td>\n",
       "      <td>False</td>\n",
       "      <td>golden_retriever</td>\n",
       "      <td>0.055408</td>\n",
       "      <td>True</td>\n",
       "      <td>Labrador_retriever</td>\n",
       "      <td>0.026854</td>\n",
       "      <td>True</td>\n",
       "    </tr>\n",
       "    <tr>\n",
       "      <th>566</th>\n",
       "      <td>678334497360859136</td>\n",
       "      <td>https://pbs.twimg.com/media/CWntoDVWcAEl3NB.jpg</td>\n",
       "      <td>1</td>\n",
       "      <td>Norfolk_terrier</td>\n",
       "      <td>0.378643</td>\n",
       "      <td>True</td>\n",
       "      <td>golden_retriever</td>\n",
       "      <td>0.095594</td>\n",
       "      <td>True</td>\n",
       "      <td>kelpie</td>\n",
       "      <td>0.085309</td>\n",
       "      <td>True</td>\n",
       "    </tr>\n",
       "    <tr>\n",
       "      <th>385</th>\n",
       "      <td>673345638550134785</td>\n",
       "      <td>https://pbs.twimg.com/media/CVg0SVRWEAAsBrS.jpg</td>\n",
       "      <td>1</td>\n",
       "      <td>hamster</td>\n",
       "      <td>0.761025</td>\n",
       "      <td>False</td>\n",
       "      <td>weasel</td>\n",
       "      <td>0.069362</td>\n",
       "      <td>False</td>\n",
       "      <td>Pomeranian</td>\n",
       "      <td>0.064627</td>\n",
       "      <td>True</td>\n",
       "    </tr>\n",
       "    <tr>\n",
       "      <th>1097</th>\n",
       "      <td>720340705894408192</td>\n",
       "      <td>https://pbs.twimg.com/media/Cf8qDFbWwAEf8M3.jpg</td>\n",
       "      <td>1</td>\n",
       "      <td>alp</td>\n",
       "      <td>0.320126</td>\n",
       "      <td>False</td>\n",
       "      <td>lawn_mower</td>\n",
       "      <td>0.080808</td>\n",
       "      <td>False</td>\n",
       "      <td>viaduct</td>\n",
       "      <td>0.065321</td>\n",
       "      <td>False</td>\n",
       "    </tr>\n",
       "    <tr>\n",
       "      <th>228</th>\n",
       "      <td>670385711116361728</td>\n",
       "      <td>https://pbs.twimg.com/media/CU2wPyWWUAAb1MJ.jpg</td>\n",
       "      <td>1</td>\n",
       "      <td>whippet</td>\n",
       "      <td>0.178027</td>\n",
       "      <td>True</td>\n",
       "      <td>Chesapeake_Bay_retriever</td>\n",
       "      <td>0.105969</td>\n",
       "      <td>True</td>\n",
       "      <td>beagle</td>\n",
       "      <td>0.078720</td>\n",
       "      <td>True</td>\n",
       "    </tr>\n",
       "  </tbody>\n",
       "</table>\n",
       "</div>"
      ],
      "text/plain": [
       "                tweet_id                                          jpg_url  \\\n",
       "198   669625907762618368  https://pbs.twimg.com/media/CUr9NjgU8AEpf5w.jpg   \n",
       "566   678334497360859136  https://pbs.twimg.com/media/CWntoDVWcAEl3NB.jpg   \n",
       "385   673345638550134785  https://pbs.twimg.com/media/CVg0SVRWEAAsBrS.jpg   \n",
       "1097  720340705894408192  https://pbs.twimg.com/media/Cf8qDFbWwAEf8M3.jpg   \n",
       "228   670385711116361728  https://pbs.twimg.com/media/CU2wPyWWUAAb1MJ.jpg   \n",
       "\n",
       "      img_num               p1   p1_conf  p1_dog                        p2  \\\n",
       "198         1        seat_belt  0.874502   False          golden_retriever   \n",
       "566         1  Norfolk_terrier  0.378643    True          golden_retriever   \n",
       "385         1          hamster  0.761025   False                    weasel   \n",
       "1097        1              alp  0.320126   False                lawn_mower   \n",
       "228         1          whippet  0.178027    True  Chesapeake_Bay_retriever   \n",
       "\n",
       "       p2_conf  p2_dog                  p3   p3_conf  p3_dog  \n",
       "198   0.055408    True  Labrador_retriever  0.026854    True  \n",
       "566   0.095594    True              kelpie  0.085309    True  \n",
       "385   0.069362   False          Pomeranian  0.064627    True  \n",
       "1097  0.080808   False             viaduct  0.065321   False  \n",
       "228   0.105969    True              beagle  0.078720    True  "
      ]
     },
     "execution_count": 17,
     "metadata": {},
     "output_type": "execute_result"
    }
   ],
   "source": [
    "#taking a sample to have a look at the data \n",
    "tw_images.sample(5)"
   ]
  },
  {
   "cell_type": "code",
   "execution_count": 18,
   "metadata": {},
   "outputs": [
    {
     "name": "stdout",
     "output_type": "stream",
     "text": [
      "<class 'pandas.core.frame.DataFrame'>\n",
      "RangeIndex: 2075 entries, 0 to 2074\n",
      "Data columns (total 12 columns):\n",
      " #   Column    Non-Null Count  Dtype  \n",
      "---  ------    --------------  -----  \n",
      " 0   tweet_id  2075 non-null   int64  \n",
      " 1   jpg_url   2075 non-null   object \n",
      " 2   img_num   2075 non-null   int64  \n",
      " 3   p1        2075 non-null   object \n",
      " 4   p1_conf   2075 non-null   float64\n",
      " 5   p1_dog    2075 non-null   bool   \n",
      " 6   p2        2075 non-null   object \n",
      " 7   p2_conf   2075 non-null   float64\n",
      " 8   p2_dog    2075 non-null   bool   \n",
      " 9   p3        2075 non-null   object \n",
      " 10  p3_conf   2075 non-null   float64\n",
      " 11  p3_dog    2075 non-null   bool   \n",
      "dtypes: bool(3), float64(3), int64(2), object(4)\n",
      "memory usage: 152.1+ KB\n"
     ]
    }
   ],
   "source": [
    "#consise summary of the data \n",
    "tw_images.info()"
   ]
  },
  {
   "cell_type": "code",
   "execution_count": 19,
   "metadata": {},
   "outputs": [
    {
     "data": {
      "text/plain": [
       "tweet_id    0\n",
       "jpg_url     0\n",
       "img_num     0\n",
       "p1          0\n",
       "p1_conf     0\n",
       "p1_dog      0\n",
       "p2          0\n",
       "p2_conf     0\n",
       "p2_dog      0\n",
       "p3          0\n",
       "p3_conf     0\n",
       "p3_dog      0\n",
       "dtype: int64"
      ]
     },
     "execution_count": 19,
     "metadata": {},
     "output_type": "execute_result"
    }
   ],
   "source": [
    "#checking for missing values in the twitter images data \n",
    "tw_images.isna().sum()"
   ]
  },
  {
   "cell_type": "code",
   "execution_count": 20,
   "metadata": {},
   "outputs": [
    {
     "data": {
      "text/html": [
       "<div>\n",
       "<style scoped>\n",
       "    .dataframe tbody tr th:only-of-type {\n",
       "        vertical-align: middle;\n",
       "    }\n",
       "\n",
       "    .dataframe tbody tr th {\n",
       "        vertical-align: top;\n",
       "    }\n",
       "\n",
       "    .dataframe thead th {\n",
       "        text-align: right;\n",
       "    }\n",
       "</style>\n",
       "<table border=\"1\" class=\"dataframe\">\n",
       "  <thead>\n",
       "    <tr style=\"text-align: right;\">\n",
       "      <th></th>\n",
       "      <th>tweet_id</th>\n",
       "      <th>img_num</th>\n",
       "      <th>p1_conf</th>\n",
       "      <th>p2_conf</th>\n",
       "      <th>p3_conf</th>\n",
       "    </tr>\n",
       "  </thead>\n",
       "  <tbody>\n",
       "    <tr>\n",
       "      <th>count</th>\n",
       "      <td>2.075000e+03</td>\n",
       "      <td>2075.000000</td>\n",
       "      <td>2075.000000</td>\n",
       "      <td>2.075000e+03</td>\n",
       "      <td>2.075000e+03</td>\n",
       "    </tr>\n",
       "    <tr>\n",
       "      <th>mean</th>\n",
       "      <td>7.384514e+17</td>\n",
       "      <td>1.203855</td>\n",
       "      <td>0.594548</td>\n",
       "      <td>1.345886e-01</td>\n",
       "      <td>6.032417e-02</td>\n",
       "    </tr>\n",
       "    <tr>\n",
       "      <th>std</th>\n",
       "      <td>6.785203e+16</td>\n",
       "      <td>0.561875</td>\n",
       "      <td>0.271174</td>\n",
       "      <td>1.006657e-01</td>\n",
       "      <td>5.090593e-02</td>\n",
       "    </tr>\n",
       "    <tr>\n",
       "      <th>min</th>\n",
       "      <td>6.660209e+17</td>\n",
       "      <td>1.000000</td>\n",
       "      <td>0.044333</td>\n",
       "      <td>1.011300e-08</td>\n",
       "      <td>1.740170e-10</td>\n",
       "    </tr>\n",
       "    <tr>\n",
       "      <th>25%</th>\n",
       "      <td>6.764835e+17</td>\n",
       "      <td>1.000000</td>\n",
       "      <td>0.364412</td>\n",
       "      <td>5.388625e-02</td>\n",
       "      <td>1.622240e-02</td>\n",
       "    </tr>\n",
       "    <tr>\n",
       "      <th>50%</th>\n",
       "      <td>7.119988e+17</td>\n",
       "      <td>1.000000</td>\n",
       "      <td>0.588230</td>\n",
       "      <td>1.181810e-01</td>\n",
       "      <td>4.944380e-02</td>\n",
       "    </tr>\n",
       "    <tr>\n",
       "      <th>75%</th>\n",
       "      <td>7.932034e+17</td>\n",
       "      <td>1.000000</td>\n",
       "      <td>0.843855</td>\n",
       "      <td>1.955655e-01</td>\n",
       "      <td>9.180755e-02</td>\n",
       "    </tr>\n",
       "    <tr>\n",
       "      <th>max</th>\n",
       "      <td>8.924206e+17</td>\n",
       "      <td>4.000000</td>\n",
       "      <td>1.000000</td>\n",
       "      <td>4.880140e-01</td>\n",
       "      <td>2.734190e-01</td>\n",
       "    </tr>\n",
       "  </tbody>\n",
       "</table>\n",
       "</div>"
      ],
      "text/plain": [
       "           tweet_id      img_num      p1_conf       p2_conf       p3_conf\n",
       "count  2.075000e+03  2075.000000  2075.000000  2.075000e+03  2.075000e+03\n",
       "mean   7.384514e+17     1.203855     0.594548  1.345886e-01  6.032417e-02\n",
       "std    6.785203e+16     0.561875     0.271174  1.006657e-01  5.090593e-02\n",
       "min    6.660209e+17     1.000000     0.044333  1.011300e-08  1.740170e-10\n",
       "25%    6.764835e+17     1.000000     0.364412  5.388625e-02  1.622240e-02\n",
       "50%    7.119988e+17     1.000000     0.588230  1.181810e-01  4.944380e-02\n",
       "75%    7.932034e+17     1.000000     0.843855  1.955655e-01  9.180755e-02\n",
       "max    8.924206e+17     4.000000     1.000000  4.880140e-01  2.734190e-01"
      ]
     },
     "execution_count": 20,
     "metadata": {},
     "output_type": "execute_result"
    }
   ],
   "source": [
    "#summary statistics for the nuerical columns \n",
    "tw_images.describe()"
   ]
  },
  {
   "cell_type": "code",
   "execution_count": 21,
   "metadata": {},
   "outputs": [
    {
     "data": {
      "text/html": [
       "<div>\n",
       "<style scoped>\n",
       "    .dataframe tbody tr th:only-of-type {\n",
       "        vertical-align: middle;\n",
       "    }\n",
       "\n",
       "    .dataframe tbody tr th {\n",
       "        vertical-align: top;\n",
       "    }\n",
       "\n",
       "    .dataframe thead th {\n",
       "        text-align: right;\n",
       "    }\n",
       "</style>\n",
       "<table border=\"1\" class=\"dataframe\">\n",
       "  <thead>\n",
       "    <tr style=\"text-align: right;\">\n",
       "      <th></th>\n",
       "      <th>jpg_url</th>\n",
       "      <th>p1</th>\n",
       "      <th>p2</th>\n",
       "      <th>p3</th>\n",
       "    </tr>\n",
       "  </thead>\n",
       "  <tbody>\n",
       "    <tr>\n",
       "      <th>count</th>\n",
       "      <td>2075</td>\n",
       "      <td>2075</td>\n",
       "      <td>2075</td>\n",
       "      <td>2075</td>\n",
       "    </tr>\n",
       "    <tr>\n",
       "      <th>unique</th>\n",
       "      <td>2009</td>\n",
       "      <td>378</td>\n",
       "      <td>405</td>\n",
       "      <td>408</td>\n",
       "    </tr>\n",
       "    <tr>\n",
       "      <th>top</th>\n",
       "      <td>https://pbs.twimg.com/media/CZhn-QAWwAASQan.jpg</td>\n",
       "      <td>golden_retriever</td>\n",
       "      <td>Labrador_retriever</td>\n",
       "      <td>Labrador_retriever</td>\n",
       "    </tr>\n",
       "    <tr>\n",
       "      <th>freq</th>\n",
       "      <td>2</td>\n",
       "      <td>150</td>\n",
       "      <td>104</td>\n",
       "      <td>79</td>\n",
       "    </tr>\n",
       "  </tbody>\n",
       "</table>\n",
       "</div>"
      ],
      "text/plain": [
       "                                                jpg_url                p1  \\\n",
       "count                                              2075              2075   \n",
       "unique                                             2009               378   \n",
       "top     https://pbs.twimg.com/media/CZhn-QAWwAASQan.jpg  golden_retriever   \n",
       "freq                                                  2               150   \n",
       "\n",
       "                        p2                  p3  \n",
       "count                 2075                2075  \n",
       "unique                 405                 408  \n",
       "top     Labrador_retriever  Labrador_retriever  \n",
       "freq                   104                  79  "
      ]
     },
     "execution_count": 21,
     "metadata": {},
     "output_type": "execute_result"
    }
   ],
   "source": [
    "#descriptive statistics for categorical variables \n",
    "tw_images.describe(include=object)"
   ]
  },
  {
   "cell_type": "code",
   "execution_count": 22,
   "metadata": {},
   "outputs": [
    {
     "data": {
      "text/html": [
       "<div>\n",
       "<style scoped>\n",
       "    .dataframe tbody tr th:only-of-type {\n",
       "        vertical-align: middle;\n",
       "    }\n",
       "\n",
       "    .dataframe tbody tr th {\n",
       "        vertical-align: top;\n",
       "    }\n",
       "\n",
       "    .dataframe thead th {\n",
       "        text-align: right;\n",
       "    }\n",
       "</style>\n",
       "<table border=\"1\" class=\"dataframe\">\n",
       "  <thead>\n",
       "    <tr style=\"text-align: right;\">\n",
       "      <th></th>\n",
       "      <th>id</th>\n",
       "      <th>retweet_count</th>\n",
       "      <th>favorite_count</th>\n",
       "    </tr>\n",
       "  </thead>\n",
       "  <tbody>\n",
       "    <tr>\n",
       "      <th>0</th>\n",
       "      <td>892420643555336193</td>\n",
       "      <td>8853</td>\n",
       "      <td>39467</td>\n",
       "    </tr>\n",
       "    <tr>\n",
       "      <th>1</th>\n",
       "      <td>892177421306343426</td>\n",
       "      <td>6514</td>\n",
       "      <td>33819</td>\n",
       "    </tr>\n",
       "    <tr>\n",
       "      <th>2</th>\n",
       "      <td>891815181378084864</td>\n",
       "      <td>4328</td>\n",
       "      <td>25461</td>\n",
       "    </tr>\n",
       "    <tr>\n",
       "      <th>3</th>\n",
       "      <td>891689557279858688</td>\n",
       "      <td>8964</td>\n",
       "      <td>42908</td>\n",
       "    </tr>\n",
       "    <tr>\n",
       "      <th>4</th>\n",
       "      <td>891327558926688256</td>\n",
       "      <td>9774</td>\n",
       "      <td>41048</td>\n",
       "    </tr>\n",
       "  </tbody>\n",
       "</table>\n",
       "</div>"
      ],
      "text/plain": [
       "                   id  retweet_count  favorite_count\n",
       "0  892420643555336193           8853           39467\n",
       "1  892177421306343426           6514           33819\n",
       "2  891815181378084864           4328           25461\n",
       "3  891689557279858688           8964           42908\n",
       "4  891327558926688256           9774           41048"
      ]
     },
     "execution_count": 22,
     "metadata": {},
     "output_type": "execute_result"
    }
   ],
   "source": [
    "#assessing the tweet dataframe \n",
    "tw_df.head()"
   ]
  },
  {
   "cell_type": "code",
   "execution_count": 23,
   "metadata": {},
   "outputs": [
    {
     "data": {
      "text/html": [
       "<div>\n",
       "<style scoped>\n",
       "    .dataframe tbody tr th:only-of-type {\n",
       "        vertical-align: middle;\n",
       "    }\n",
       "\n",
       "    .dataframe tbody tr th {\n",
       "        vertical-align: top;\n",
       "    }\n",
       "\n",
       "    .dataframe thead th {\n",
       "        text-align: right;\n",
       "    }\n",
       "</style>\n",
       "<table border=\"1\" class=\"dataframe\">\n",
       "  <thead>\n",
       "    <tr style=\"text-align: right;\">\n",
       "      <th></th>\n",
       "      <th>id</th>\n",
       "      <th>retweet_count</th>\n",
       "      <th>favorite_count</th>\n",
       "    </tr>\n",
       "  </thead>\n",
       "  <tbody>\n",
       "    <tr>\n",
       "      <th>246</th>\n",
       "      <td>845459076796616705</td>\n",
       "      <td>15071</td>\n",
       "      <td>0</td>\n",
       "    </tr>\n",
       "    <tr>\n",
       "      <th>1614</th>\n",
       "      <td>685198997565345792</td>\n",
       "      <td>764</td>\n",
       "      <td>2566</td>\n",
       "    </tr>\n",
       "    <tr>\n",
       "      <th>330</th>\n",
       "      <td>832998151111966721</td>\n",
       "      <td>2522</td>\n",
       "      <td>14549</td>\n",
       "    </tr>\n",
       "    <tr>\n",
       "      <th>204</th>\n",
       "      <td>852912242202992640</td>\n",
       "      <td>2037</td>\n",
       "      <td>9658</td>\n",
       "    </tr>\n",
       "    <tr>\n",
       "      <th>387</th>\n",
       "      <td>826598365270007810</td>\n",
       "      <td>2709</td>\n",
       "      <td>11117</td>\n",
       "    </tr>\n",
       "    <tr>\n",
       "      <th>1975</th>\n",
       "      <td>672988786805112832</td>\n",
       "      <td>314</td>\n",
       "      <td>1039</td>\n",
       "    </tr>\n",
       "    <tr>\n",
       "      <th>2327</th>\n",
       "      <td>666373753744588802</td>\n",
       "      <td>100</td>\n",
       "      <td>194</td>\n",
       "    </tr>\n",
       "    <tr>\n",
       "      <th>745</th>\n",
       "      <td>780074436359819264</td>\n",
       "      <td>5815</td>\n",
       "      <td>13723</td>\n",
       "    </tr>\n",
       "    <tr>\n",
       "      <th>2322</th>\n",
       "      <td>666421158376562688</td>\n",
       "      <td>118</td>\n",
       "      <td>327</td>\n",
       "    </tr>\n",
       "    <tr>\n",
       "      <th>1962</th>\n",
       "      <td>673350198937153538</td>\n",
       "      <td>229</td>\n",
       "      <td>784</td>\n",
       "    </tr>\n",
       "  </tbody>\n",
       "</table>\n",
       "</div>"
      ],
      "text/plain": [
       "                      id  retweet_count  favorite_count\n",
       "246   845459076796616705          15071               0\n",
       "1614  685198997565345792            764            2566\n",
       "330   832998151111966721           2522           14549\n",
       "204   852912242202992640           2037            9658\n",
       "387   826598365270007810           2709           11117\n",
       "1975  672988786805112832            314            1039\n",
       "2327  666373753744588802            100             194\n",
       "745   780074436359819264           5815           13723\n",
       "2322  666421158376562688            118             327\n",
       "1962  673350198937153538            229             784"
      ]
     },
     "execution_count": 23,
     "metadata": {},
     "output_type": "execute_result"
    }
   ],
   "source": [
    "#taking a sample from the tweiiter dataframe \n",
    "tw_df.sample(10)"
   ]
  },
  {
   "cell_type": "code",
   "execution_count": 24,
   "metadata": {},
   "outputs": [
    {
     "name": "stdout",
     "output_type": "stream",
     "text": [
      "<class 'pandas.core.frame.DataFrame'>\n",
      "RangeIndex: 2354 entries, 0 to 2353\n",
      "Data columns (total 3 columns):\n",
      " #   Column          Non-Null Count  Dtype\n",
      "---  ------          --------------  -----\n",
      " 0   id              2354 non-null   int64\n",
      " 1   retweet_count   2354 non-null   int64\n",
      " 2   favorite_count  2354 non-null   int64\n",
      "dtypes: int64(3)\n",
      "memory usage: 55.3 KB\n"
     ]
    }
   ],
   "source": [
    "tw_df.info()"
   ]
  },
  {
   "cell_type": "markdown",
   "metadata": {},
   "source": [
    "### 2.1. Quality-issues\n",
    "1. Timestamp column in the twitter archive data should be a datetime not an object \n",
    "\n",
    "2. The ratings columns in the tweet archive data should not be an integer but a float\n",
    "\n",
    "3. Some of the names columns in the twitter are not the correct name \n",
    "\n",
    "4. There are over 80% missing values in most of the columns in the tweets archive data.\n",
    "\n",
    "5. The tweet source column contains html tags and text we don't need in the analysis\n",
    "\n",
    "6. The tweet text column in the twiiter archive data contains url links we would not need per the analysis\n",
    "\n",
    "7. the tweet id column is combined and in the same column with the expanded urls column (dog rates, status, twitter id) in the twitter archive column\n",
    "\n",
    "8. There are irrelevant columns in the twiiter archive data \n",
    "\n"
   ]
  },
  {
   "cell_type": "markdown",
   "metadata": {
    "extensions": {
     "jupyter_dashboards": {
      "version": 1,
      "views": {
       "grid_default": {
        "col": 0,
        "height": 7,
        "hidden": false,
        "row": 40,
        "width": 12
       },
       "report_default": {
        "hidden": false
       }
      }
     }
    }
   },
   "source": [
    "### 2.2. Tidiness-issues\n",
    "1. The three datasets can be cobined to form one dataframe instaed of 3 different datasets\n",
    "\n",
    "2. For the tweet archive data, the columns doggo, floofer, pupper, and puppo can be formed to one column"
   ]
  },
  {
   "cell_type": "markdown",
   "metadata": {
    "extensions": {
     "jupyter_dashboards": {
      "version": 1,
      "views": {
       "grid_default": {
        "col": 4,
        "height": 4,
        "hidden": false,
        "row": 32,
        "width": 4
       },
       "report_default": {
        "hidden": false
       }
      }
     }
    }
   },
   "source": [
    "## 3. Cleaning-Data\n",
    "In this section, clean **all** of the issues you documented while assessing. \n",
    "\n",
    "**Note:** Make a copy of the original data before cleaning. Cleaning includes merging individual pieces of data according to the rules of [tidy data](https://cran.r-project.org/web/packages/tidyr/vignettes/tidy-data.html). The result should be a high-quality and tidy master pandas DataFrame (or DataFrames, if appropriate)."
   ]
  },
  {
   "cell_type": "code",
   "execution_count": 25,
   "metadata": {},
   "outputs": [],
   "source": [
    "# Make copies of original pieces of data\n",
    "twt_archive=tw_archive.copy()\n",
    "twt_img=tw_images.copy()\n",
    "twt_df=tw_df.copy()"
   ]
  },
  {
   "cell_type": "markdown",
   "metadata": {},
   "source": [
    "### 3.2.0 Assessing-Data-Quality-Issues "
   ]
  },
  {
   "cell_type": "markdown",
   "metadata": {},
   "source": [
    "### Issue #1:"
   ]
  },
  {
   "cell_type": "markdown",
   "metadata": {},
   "source": [
    "#### 3.1. Define:\n",
    "timestamp, rating numerator and denominator from the tweet archive data are not in the corect datatype "
   ]
  },
  {
   "cell_type": "markdown",
   "metadata": {},
   "source": [
    "#### Code"
   ]
  },
  {
   "cell_type": "code",
   "execution_count": 26,
   "metadata": {},
   "outputs": [],
   "source": [
    "#changing the timestamp column dataty[e from object to datetime \n",
    "twt_archive['timestamp']=pd.to_datetime(twt_archive['timestamp'])\n"
   ]
  },
  {
   "cell_type": "markdown",
   "metadata": {},
   "source": [
    "#### Test"
   ]
  },
  {
   "cell_type": "code",
   "execution_count": 27,
   "metadata": {
    "scrolled": true
   },
   "outputs": [
    {
     "name": "stdout",
     "output_type": "stream",
     "text": [
      "<class 'pandas.core.frame.DataFrame'>\n",
      "RangeIndex: 2356 entries, 0 to 2355\n",
      "Data columns (total 17 columns):\n",
      " #   Column                      Non-Null Count  Dtype              \n",
      "---  ------                      --------------  -----              \n",
      " 0   tweet_id                    2356 non-null   int64              \n",
      " 1   in_reply_to_status_id       78 non-null     float64            \n",
      " 2   in_reply_to_user_id         78 non-null     float64            \n",
      " 3   timestamp                   2356 non-null   datetime64[ns, UTC]\n",
      " 4   source                      2356 non-null   object             \n",
      " 5   text                        2356 non-null   object             \n",
      " 6   retweeted_status_id         181 non-null    float64            \n",
      " 7   retweeted_status_user_id    181 non-null    float64            \n",
      " 8   retweeted_status_timestamp  181 non-null    object             \n",
      " 9   expanded_urls               2297 non-null   object             \n",
      " 10  rating_numerator            2356 non-null   int64              \n",
      " 11  rating_denominator          2356 non-null   int64              \n",
      " 12  name                        2356 non-null   object             \n",
      " 13  doggo                       2356 non-null   object             \n",
      " 14  floofer                     2356 non-null   object             \n",
      " 15  pupper                      2356 non-null   object             \n",
      " 16  puppo                       2356 non-null   object             \n",
      "dtypes: datetime64[ns, UTC](1), float64(4), int64(3), object(9)\n",
      "memory usage: 313.0+ KB\n"
     ]
    }
   ],
   "source": [
    "#checking if the changes has been effected \n",
    "twt_archive.info()"
   ]
  },
  {
   "cell_type": "markdown",
   "metadata": {},
   "source": [
    "### Issue #2"
   ]
  },
  {
   "cell_type": "markdown",
   "metadata": {},
   "source": [
    "#### 3.2. Define \n",
    " The ratings columns in the tweet archive data should not be an integer but a float\n"
   ]
  },
  {
   "cell_type": "markdown",
   "metadata": {},
   "source": [
    "#### Code "
   ]
  },
  {
   "cell_type": "code",
   "execution_count": 28,
   "metadata": {},
   "outputs": [],
   "source": [
    "#changing the numerator and denominator column to a float\n",
    "twt_archive['rating_denominator']=twt_archive['rating_denominator'].astype('float')\n",
    "twt_archive['rating_numerator']=twt_archive['rating_numerator'].astype('float')"
   ]
  },
  {
   "cell_type": "markdown",
   "metadata": {},
   "source": [
    "#### Test"
   ]
  },
  {
   "cell_type": "code",
   "execution_count": 29,
   "metadata": {},
   "outputs": [
    {
     "name": "stdout",
     "output_type": "stream",
     "text": [
      "<class 'pandas.core.frame.DataFrame'>\n",
      "RangeIndex: 2356 entries, 0 to 2355\n",
      "Data columns (total 17 columns):\n",
      " #   Column                      Non-Null Count  Dtype              \n",
      "---  ------                      --------------  -----              \n",
      " 0   tweet_id                    2356 non-null   int64              \n",
      " 1   in_reply_to_status_id       78 non-null     float64            \n",
      " 2   in_reply_to_user_id         78 non-null     float64            \n",
      " 3   timestamp                   2356 non-null   datetime64[ns, UTC]\n",
      " 4   source                      2356 non-null   object             \n",
      " 5   text                        2356 non-null   object             \n",
      " 6   retweeted_status_id         181 non-null    float64            \n",
      " 7   retweeted_status_user_id    181 non-null    float64            \n",
      " 8   retweeted_status_timestamp  181 non-null    object             \n",
      " 9   expanded_urls               2297 non-null   object             \n",
      " 10  rating_numerator            2356 non-null   float64            \n",
      " 11  rating_denominator          2356 non-null   float64            \n",
      " 12  name                        2356 non-null   object             \n",
      " 13  doggo                       2356 non-null   object             \n",
      " 14  floofer                     2356 non-null   object             \n",
      " 15  pupper                      2356 non-null   object             \n",
      " 16  puppo                       2356 non-null   object             \n",
      "dtypes: datetime64[ns, UTC](1), float64(6), int64(1), object(9)\n",
      "memory usage: 313.0+ KB\n"
     ]
    }
   ],
   "source": [
    "#checking if the changes has been effected \n",
    "twt_archive.info()"
   ]
  },
  {
   "cell_type": "markdown",
   "metadata": {},
   "source": [
    "### Issue #3:"
   ]
  },
  {
   "cell_type": "markdown",
   "metadata": {
    "collapsed": true,
    "extensions": {
     "jupyter_dashboards": {
      "version": 1,
      "views": {
       "grid_default": {
        "hidden": true
       },
       "report_default": {
        "hidden": true
       }
      }
     }
    }
   },
   "source": [
    "#### 3.3. Define\n",
    "Some of the names in the name column in the twitter archive data are not the correct name. A proper dog name is capitalized"
   ]
  },
  {
   "cell_type": "markdown",
   "metadata": {},
   "source": [
    "#### Code"
   ]
  },
  {
   "cell_type": "markdown",
   "metadata": {},
   "source": [
    "#### Test"
   ]
  },
  {
   "cell_type": "code",
   "execution_count": 30,
   "metadata": {},
   "outputs": [],
   "source": [
    "#since non-dog names are in lowercase as a result of the way the names were extracted from the tweet text\n",
    "#whereas a proper dog name is capitalized.\n",
    "mask = twt_archive.name.str.islower() \n",
    "column_name = 'name' \n",
    "twt_archive.loc[mask, column_name] = np.nan"
   ]
  },
  {
   "cell_type": "code",
   "execution_count": 31,
   "metadata": {},
   "outputs": [
    {
     "data": {
      "text/plain": [
       "['None',\n",
       " 'Charlie',\n",
       " 'Lucy',\n",
       " 'Cooper',\n",
       " 'Oliver',\n",
       " 'Lola',\n",
       " 'Penny',\n",
       " 'Tucker',\n",
       " 'Bo',\n",
       " 'Winston',\n",
       " 'Sadie',\n",
       " 'Daisy',\n",
       " 'Toby',\n",
       " 'Bailey',\n",
       " 'Buddy',\n",
       " 'Milo',\n",
       " 'Stanley',\n",
       " 'Rusty',\n",
       " 'Jack',\n",
       " 'Leo',\n",
       " 'Bella',\n",
       " 'Oscar',\n",
       " 'Dave',\n",
       " 'Koda',\n",
       " 'Jax',\n",
       " 'Scout',\n",
       " 'Louis',\n",
       " 'Oakley',\n",
       " 'Sammy',\n",
       " 'Gus',\n",
       " 'George',\n",
       " 'Bentley',\n",
       " 'Sunny',\n",
       " 'Finn',\n",
       " 'Larry',\n",
       " 'Phil',\n",
       " 'Alfie',\n",
       " 'Chester',\n",
       " 'Walter',\n",
       " 'Bear',\n",
       " 'Dexter',\n",
       " 'Luna',\n",
       " 'Sophie',\n",
       " 'Carl',\n",
       " 'Bruce',\n",
       " 'Loki',\n",
       " 'Moose',\n",
       " 'Boomer',\n",
       " 'Chip',\n",
       " 'Reggie',\n",
       " 'Maddie',\n",
       " 'Riley',\n",
       " 'Scooter',\n",
       " 'Jerry',\n",
       " 'Maximus',\n",
       " 'Duke',\n",
       " 'Reginald',\n",
       " 'Maggie',\n",
       " 'Ruby',\n",
       " 'Hank',\n",
       " 'Brody',\n",
       " 'Clark',\n",
       " 'Winnie',\n",
       " 'Clarence',\n",
       " 'Sampson',\n",
       " 'Shadow',\n",
       " 'Gary',\n",
       " 'Gerald',\n",
       " 'Jeffrey',\n",
       " 'Beau',\n",
       " 'Derek',\n",
       " 'Cassie',\n",
       " 'Archie',\n",
       " 'Waffles',\n",
       " 'Lily',\n",
       " 'Malcolm',\n",
       " 'Mia',\n",
       " 'Lorenzo',\n",
       " 'Samson',\n",
       " 'Otis',\n",
       " 'Vincent',\n",
       " 'Wyatt',\n",
       " 'Rosie',\n",
       " 'Colby',\n",
       " 'Wallace',\n",
       " 'Arnie',\n",
       " 'Louie',\n",
       " 'Earl',\n",
       " 'Olive',\n",
       " 'Reese',\n",
       " 'Steven',\n",
       " 'Kyle',\n",
       " 'Wilson',\n",
       " 'Rory',\n",
       " 'Frankie',\n",
       " 'Zeke',\n",
       " 'Coco',\n",
       " 'Max',\n",
       " 'Ted',\n",
       " 'Ellie',\n",
       " 'Jimothy',\n",
       " 'Nala',\n",
       " 'Peaches',\n",
       " 'Gizmo',\n",
       " 'Doug',\n",
       " 'Calvin',\n",
       " 'Zoey',\n",
       " 'Klevin',\n",
       " 'Sebastian',\n",
       " 'Paisley',\n",
       " 'Rizzy',\n",
       " 'Chelsea',\n",
       " 'Paull',\n",
       " 'Thumas',\n",
       " 'Timison',\n",
       " 'Davey',\n",
       " 'Remington',\n",
       " 'Tyrone',\n",
       " 'Seamus',\n",
       " 'Juno',\n",
       " 'Ozzy',\n",
       " 'Butter',\n",
       " 'Curtis',\n",
       " 'Calbert',\n",
       " 'Bernie',\n",
       " 'Stubert',\n",
       " 'Luca',\n",
       " 'Lenny',\n",
       " 'Coops',\n",
       " 'Bubbles',\n",
       " 'Moe',\n",
       " 'Herschel',\n",
       " 'Levi',\n",
       " 'Bisquick',\n",
       " 'Rocky',\n",
       " 'Sam',\n",
       " 'Chuckles',\n",
       " 'Layla',\n",
       " 'Hunter',\n",
       " 'Atlas',\n",
       " 'Oshie',\n",
       " 'Olivia',\n",
       " 'Titan',\n",
       " 'Cupcake',\n",
       " 'Ollie',\n",
       " 'Baloo',\n",
       " 'Cali',\n",
       " 'Lennon',\n",
       " 'Chet',\n",
       " 'Sansa',\n",
       " 'Django',\n",
       " 'Betty',\n",
       " 'Philbert',\n",
       " 'Marley',\n",
       " 'Anakin',\n",
       " 'Tyr',\n",
       " 'Mister',\n",
       " 'Doc',\n",
       " 'Pippa',\n",
       " 'Smokey',\n",
       " 'Carly',\n",
       " 'Keith',\n",
       " 'Rubio',\n",
       " 'Watson',\n",
       " 'Chompsky',\n",
       " 'Jeph',\n",
       " 'Jiminy',\n",
       " 'Terry',\n",
       " 'Rocco',\n",
       " 'Griffin',\n",
       " 'Albert',\n",
       " 'Crystal',\n",
       " 'Eve',\n",
       " 'Patrick',\n",
       " 'Kreg',\n",
       " 'Raymond',\n",
       " 'Phred',\n",
       " 'Fred',\n",
       " 'Blitz',\n",
       " 'Hammond',\n",
       " 'Kilo',\n",
       " 'Theodore',\n",
       " 'Brad',\n",
       " 'Sugar',\n",
       " 'Percy',\n",
       " 'Shaggy',\n",
       " 'Abby',\n",
       " 'Opal',\n",
       " 'Herald',\n",
       " 'Keurig',\n",
       " 'Baxter',\n",
       " 'Atticus',\n",
       " 'Piper',\n",
       " 'Charles',\n",
       " 'Axel',\n",
       " 'Wally',\n",
       " 'Rufus',\n",
       " 'Flávio',\n",
       " 'Oliviér',\n",
       " 'Linda',\n",
       " 'Kenny',\n",
       " 'Panda',\n",
       " 'Sandy',\n",
       " 'Lincoln',\n",
       " 'Frank',\n",
       " 'Meyer',\n",
       " 'Leela',\n",
       " 'Maxaroni',\n",
       " 'Happy',\n",
       " 'Misty',\n",
       " 'CeCe',\n",
       " 'Kenneth',\n",
       " 'Herm',\n",
       " 'Benji',\n",
       " 'Bob',\n",
       " 'Harper',\n",
       " 'Nollie',\n",
       " 'Chipson',\n",
       " 'Hercules',\n",
       " 'Kirby',\n",
       " 'Jackson',\n",
       " 'Dakota',\n",
       " 'Gromit',\n",
       " 'Roosevelt',\n",
       " 'Fizz',\n",
       " 'Finley',\n",
       " 'Penelope',\n",
       " 'Solomon',\n",
       " 'Hurley',\n",
       " 'Bell',\n",
       " 'Kreggory',\n",
       " 'Sarge',\n",
       " 'Dash',\n",
       " 'Lou',\n",
       " 'Phineas',\n",
       " 'Jimison',\n",
       " 'Canela',\n",
       " 'Ava',\n",
       " 'Eli',\n",
       " 'Jamesy',\n",
       " 'Aspen',\n",
       " 'Harold',\n",
       " 'Terrance',\n",
       " 'Cash',\n",
       " 'Lilly',\n",
       " 'Kevin',\n",
       " 'Yogi',\n",
       " 'Sierra',\n",
       " 'Astrid',\n",
       " 'Fiona',\n",
       " 'Emmy',\n",
       " 'Stephan',\n",
       " 'Kyro',\n",
       " 'Cody',\n",
       " 'Gidget',\n",
       " 'Dawn',\n",
       " 'Romeo',\n",
       " 'Klein',\n",
       " 'Moreton',\n",
       " 'Jesse',\n",
       " 'Logan',\n",
       " 'Elliot',\n",
       " 'Alice',\n",
       " 'Ash',\n",
       " 'Bungalo',\n",
       " 'Pablo',\n",
       " 'Trooper',\n",
       " 'Ken',\n",
       " 'Benedict',\n",
       " 'Balto',\n",
       " 'Odie',\n",
       " 'Franklin',\n",
       " 'Belle',\n",
       " 'Quinn',\n",
       " 'Pipsy',\n",
       " 'Pickles',\n",
       " 'Nelly',\n",
       " 'Gabe',\n",
       " 'Hobbes',\n",
       " 'Neptune',\n",
       " 'Mattie',\n",
       " 'Albus',\n",
       " 'Churlie',\n",
       " 'Indie',\n",
       " 'Frönq',\n",
       " 'Pubert',\n",
       " 'DayZ',\n",
       " 'Maxwell',\n",
       " 'Fynn',\n",
       " 'Covach',\n",
       " 'Hamrick',\n",
       " 'Geoff',\n",
       " 'Jareld',\n",
       " 'Cleopatricia',\n",
       " 'Trip',\n",
       " 'Torque',\n",
       " 'Durg',\n",
       " 'Ferg',\n",
       " 'Lucky',\n",
       " 'Ron',\n",
       " 'Skittles',\n",
       " 'Derby',\n",
       " 'Ricky',\n",
       " 'Jo',\n",
       " 'Kramer',\n",
       " 'Gòrdón',\n",
       " 'Obi',\n",
       " 'Hubertson',\n",
       " 'Gerbald',\n",
       " 'Zeek',\n",
       " 'Oreo',\n",
       " 'Bruiser',\n",
       " 'Perry',\n",
       " 'Bobby',\n",
       " 'Tino',\n",
       " 'Lizzie',\n",
       " 'Kulet',\n",
       " 'Sweets',\n",
       " 'Lupe',\n",
       " 'Tiger',\n",
       " 'Hanz',\n",
       " 'Winifred',\n",
       " 'Banjo',\n",
       " 'Petrick',\n",
       " 'Brooks',\n",
       " 'Marty',\n",
       " 'Lorelei',\n",
       " 'Ember',\n",
       " 'Blakely',\n",
       " 'Spark',\n",
       " 'Marvin',\n",
       " 'Marq',\n",
       " 'Barry',\n",
       " 'Gordon',\n",
       " 'Kallie',\n",
       " 'Mona',\n",
       " 'Horace',\n",
       " 'Jomathan',\n",
       " 'Maks',\n",
       " 'Crimson',\n",
       " 'Birf',\n",
       " 'Timofy',\n",
       " 'Oddie',\n",
       " 'Richie',\n",
       " 'Erik',\n",
       " 'Biden',\n",
       " 'Bilbo',\n",
       " 'Clybe',\n",
       " 'Coopson',\n",
       " 'Yoda',\n",
       " 'Millie',\n",
       " 'Bradlay',\n",
       " 'Joshwa',\n",
       " 'Crouton',\n",
       " 'Genevieve',\n",
       " 'Fwed',\n",
       " 'Daniel',\n",
       " 'Kaia',\n",
       " 'Murphy',\n",
       " 'Dotsy',\n",
       " 'Eazy',\n",
       " 'Fillup',\n",
       " 'Miley',\n",
       " 'Rilo',\n",
       " 'Fiji',\n",
       " 'Rudy',\n",
       " 'Jockson',\n",
       " 'Lugan',\n",
       " 'Katie',\n",
       " 'Kara',\n",
       " 'Adele',\n",
       " 'Zara',\n",
       " 'Ambrose',\n",
       " 'Josep',\n",
       " 'Bode',\n",
       " 'Rambo',\n",
       " 'Terrenth',\n",
       " 'Carll',\n",
       " 'Chesterson',\n",
       " 'Lucia',\n",
       " 'Keet',\n",
       " 'Ralphson',\n",
       " 'Socks',\n",
       " 'Charl',\n",
       " 'Philippe',\n",
       " 'Eriq',\n",
       " 'Reagan',\n",
       " 'Filup',\n",
       " 'Bodie',\n",
       " 'Dunkin',\n",
       " 'Tupawc',\n",
       " 'Tedrick',\n",
       " 'Amber',\n",
       " 'Edgar',\n",
       " 'Teddy',\n",
       " 'Kingsley',\n",
       " 'Brockly',\n",
       " 'Kevon',\n",
       " 'Molly',\n",
       " 'Stu',\n",
       " 'Vinscent',\n",
       " 'Cedrick',\n",
       " 'Hazel',\n",
       " 'Lolo',\n",
       " 'Freddery',\n",
       " 'Kobe',\n",
       " 'Grady',\n",
       " 'Naphaniel',\n",
       " 'Yukon',\n",
       " 'Hall',\n",
       " 'Cuddles',\n",
       " 'Claude',\n",
       " 'Jessiga',\n",
       " 'Carter',\n",
       " 'Dook',\n",
       " 'Ole',\n",
       " 'Kial',\n",
       " 'Pherb',\n",
       " 'Blipson',\n",
       " 'Reptar',\n",
       " 'Trevith',\n",
       " 'Berb',\n",
       " 'Colin',\n",
       " 'Brian',\n",
       " 'Brandy',\n",
       " 'Apollo',\n",
       " 'Lulu',\n",
       " 'Bobbay',\n",
       " 'Mitch',\n",
       " 'Jeffrie',\n",
       " 'Gin',\n",
       " 'Kaiya',\n",
       " 'Traviss',\n",
       " 'Creg',\n",
       " 'Acro',\n",
       " 'Antony',\n",
       " 'Trigger',\n",
       " 'Aiden',\n",
       " 'Mason',\n",
       " 'Obie',\n",
       " 'Dot',\n",
       " 'Shnuggles',\n",
       " 'Kendall',\n",
       " 'Jeffri',\n",
       " 'Steve',\n",
       " 'Danny',\n",
       " 'Henry',\n",
       " 'Andy',\n",
       " 'Ester',\n",
       " 'Zuzu',\n",
       " 'Mollie',\n",
       " 'Peanut',\n",
       " 'Damon',\n",
       " 'Herb',\n",
       " 'Laela',\n",
       " 'Willy',\n",
       " 'Tedders',\n",
       " 'Superpup',\n",
       " 'Edd',\n",
       " 'Rufio',\n",
       " 'Jeb',\n",
       " 'Rodman',\n",
       " 'Bloo',\n",
       " 'Jonah',\n",
       " 'Chesney',\n",
       " 'Pluto',\n",
       " 'Mac',\n",
       " 'Fletcher',\n",
       " 'Darrel',\n",
       " 'Taz',\n",
       " 'Alejandro',\n",
       " 'Jackie',\n",
       " 'Jazz',\n",
       " 'Franq',\n",
       " 'Pippin',\n",
       " 'JD',\n",
       " 'Rolf',\n",
       " 'Mark',\n",
       " 'Snickers',\n",
       " 'Dylan',\n",
       " 'Ridley',\n",
       " 'Cal',\n",
       " 'Bradley',\n",
       " 'Batdog',\n",
       " 'Bubba',\n",
       " 'Tuco',\n",
       " 'Patch',\n",
       " 'Darby',\n",
       " 'Scott',\n",
       " 'Sage',\n",
       " 'Scruffers',\n",
       " 'Amy',\n",
       " 'Kenzie',\n",
       " 'Jett',\n",
       " 'Pumpkin',\n",
       " 'Schnozz',\n",
       " 'Holly',\n",
       " 'Anthony',\n",
       " 'Gustaf',\n",
       " 'Sparky',\n",
       " 'Tanner',\n",
       " 'Cheryl',\n",
       " 'Julius',\n",
       " 'Pip',\n",
       " 'Ed',\n",
       " 'Leonidas',\n",
       " 'Norman',\n",
       " 'Caryl',\n",
       " 'Nigel',\n",
       " 'Butters',\n",
       " 'Sandra',\n",
       " 'Ozzie',\n",
       " 'Cheesy',\n",
       " 'Harrison',\n",
       " 'Moofasa',\n",
       " 'Samsom',\n",
       " 'Hector',\n",
       " 'Jaspers',\n",
       " 'Clarq',\n",
       " 'Goliath',\n",
       " 'Kawhi',\n",
       " 'Emmie',\n",
       " 'Ralf',\n",
       " 'Kirk',\n",
       " 'Willie',\n",
       " 'Rinna',\n",
       " 'Mike',\n",
       " 'William',\n",
       " 'Dwight',\n",
       " 'Griswold',\n",
       " 'Champ',\n",
       " 'Arnold',\n",
       " 'Chaz',\n",
       " 'Taco',\n",
       " 'Joey',\n",
       " 'Banditt',\n",
       " 'Bobb',\n",
       " 'Todo',\n",
       " 'Tess',\n",
       " 'Ulysses',\n",
       " 'Amélie',\n",
       " 'Toffee',\n",
       " 'Mojo',\n",
       " 'Ruffles',\n",
       " 'Asher',\n",
       " 'Lambeau',\n",
       " 'Glacier',\n",
       " 'Chuck',\n",
       " 'Jaycob',\n",
       " 'Jeremy',\n",
       " 'Evy',\n",
       " 'Sully',\n",
       " 'Tessa',\n",
       " 'Rascal',\n",
       " 'Juckson',\n",
       " 'Raphael',\n",
       " 'Chuq',\n",
       " 'Tyrus',\n",
       " 'Karl',\n",
       " 'Ben',\n",
       " 'Tommy',\n",
       " 'Godzilla',\n",
       " 'Vinnie',\n",
       " 'Liam',\n",
       " 'Bert',\n",
       " 'Striker',\n",
       " 'Donny',\n",
       " 'Pepper',\n",
       " 'Randall',\n",
       " 'Buddah',\n",
       " 'Fabio',\n",
       " 'Julio',\n",
       " 'Tassy',\n",
       " 'Andru',\n",
       " 'Jerome',\n",
       " 'Dug',\n",
       " 'Saydee',\n",
       " 'Billl',\n",
       " 'Tug',\n",
       " 'Ronduh',\n",
       " 'Tango',\n",
       " 'Grizz',\n",
       " 'Crumpet',\n",
       " 'Kloey',\n",
       " 'Kollin',\n",
       " 'Jessifer',\n",
       " 'Izzy',\n",
       " 'Ralph',\n",
       " 'Skye',\n",
       " 'Shawwn',\n",
       " 'Humphrey',\n",
       " 'Kathmandu',\n",
       " 'Huxley',\n",
       " 'Finnegus',\n",
       " 'Tom',\n",
       " 'Duchess',\n",
       " 'Harlso',\n",
       " 'Sundance',\n",
       " 'Flash',\n",
       " 'Howie',\n",
       " 'Jazzy',\n",
       " 'Anna',\n",
       " 'Wafer',\n",
       " 'Florence',\n",
       " 'Eevee',\n",
       " 'Autumn',\n",
       " 'Dido',\n",
       " 'Eugene',\n",
       " 'Strudel',\n",
       " 'Tebow',\n",
       " 'Chloe',\n",
       " 'Timber',\n",
       " 'Binky',\n",
       " 'Crawford',\n",
       " 'Sweet',\n",
       " 'Mo',\n",
       " 'Ike',\n",
       " 'Miguel',\n",
       " 'Emanuel',\n",
       " 'Kuyu',\n",
       " 'Dutch',\n",
       " 'Pete',\n",
       " 'Mutt',\n",
       " 'Doobert',\n",
       " 'Beebop',\n",
       " 'Alexander',\n",
       " 'Sailer',\n",
       " 'Brutus',\n",
       " 'Kona',\n",
       " 'Boots',\n",
       " 'Ralphie',\n",
       " 'Cupid',\n",
       " 'Pawnd',\n",
       " 'Pilot',\n",
       " 'Dudley',\n",
       " 'Comet',\n",
       " 'Akumi',\n",
       " 'Bones',\n",
       " 'Chef',\n",
       " 'Sobe',\n",
       " 'Longfellow',\n",
       " 'Iroh',\n",
       " 'Pancake',\n",
       " 'Snicku',\n",
       " 'Mack',\n",
       " 'Nimbus',\n",
       " 'Laika',\n",
       " 'Dobby',\n",
       " 'Maude',\n",
       " 'Newt',\n",
       " 'Nida',\n",
       " 'Robin',\n",
       " 'Monster',\n",
       " 'BeBe',\n",
       " 'Remus',\n",
       " 'Mauve',\n",
       " 'Ronnie',\n",
       " 'Alf',\n",
       " 'Severus',\n",
       " 'Chubbs',\n",
       " 'Sky',\n",
       " 'Eleanor',\n",
       " 'Baron',\n",
       " 'Bauer',\n",
       " 'Swagger',\n",
       " 'Brandi',\n",
       " 'Mary',\n",
       " 'Halo',\n",
       " 'Augie',\n",
       " 'Craig',\n",
       " 'Pavlov',\n",
       " 'Ito',\n",
       " 'Major',\n",
       " 'Shooter',\n",
       " 'Diogi',\n",
       " 'Sonny',\n",
       " 'Smiley',\n",
       " 'Orion',\n",
       " 'Mosby',\n",
       " 'Napolean',\n",
       " 'Goose',\n",
       " 'Nugget',\n",
       " 'Jed',\n",
       " 'Monkey',\n",
       " 'Harry',\n",
       " 'Kody',\n",
       " 'Lassie',\n",
       " 'Rover',\n",
       " 'Rumble',\n",
       " 'Willow',\n",
       " 'Clifford',\n",
       " 'Dewey',\n",
       " 'Shikha',\n",
       " 'Lili',\n",
       " 'Meatball',\n",
       " 'Zooey',\n",
       " 'Jersey',\n",
       " 'Burt',\n",
       " 'Venti',\n",
       " 'Ginger',\n",
       " 'Dante',\n",
       " 'Aja',\n",
       " 'Darla',\n",
       " 'Bruno',\n",
       " 'Stuart',\n",
       " 'Jim',\n",
       " 'Ralphus',\n",
       " 'Maya',\n",
       " 'Mingus',\n",
       " 'Roscoe',\n",
       " 'Jimbo',\n",
       " 'Maisey',\n",
       " 'Noah',\n",
       " 'Grizzwald',\n",
       " 'Alfy',\n",
       " 'Koko',\n",
       " 'Rey',\n",
       " 'Duddles',\n",
       " 'Snoopy',\n",
       " 'Jordy',\n",
       " 'Milky',\n",
       " 'Thor',\n",
       " 'Barney',\n",
       " 'Jarvis',\n",
       " 'Mimosa',\n",
       " 'Brady',\n",
       " 'Margo',\n",
       " 'Tycho',\n",
       " 'Monty',\n",
       " 'Sojourner',\n",
       " 'Arlo',\n",
       " 'Mookie',\n",
       " 'Meera',\n",
       " 'Tobi',\n",
       " 'Sunshine',\n",
       " 'Lipton',\n",
       " 'Gabby',\n",
       " 'Bronte',\n",
       " 'Poppy',\n",
       " 'Rhino',\n",
       " 'Vixen',\n",
       " 'Tuck',\n",
       " 'Callie',\n",
       " 'Furzey',\n",
       " 'Cermet',\n",
       " 'Marlee',\n",
       " 'Arya',\n",
       " 'Einstein',\n",
       " 'Rumpole',\n",
       " 'Benny',\n",
       " 'Jarod',\n",
       " 'Wiggles',\n",
       " 'General',\n",
       " 'Sailor',\n",
       " 'Iggy',\n",
       " 'Snoop',\n",
       " 'Noosh',\n",
       " 'Odin',\n",
       " 'Georgie',\n",
       " 'Rontu',\n",
       " 'Cannon',\n",
       " 'Mabel',\n",
       " 'Ralphy',\n",
       " 'Clarkus',\n",
       " 'Lillie',\n",
       " 'Flurpson',\n",
       " 'Coleman',\n",
       " 'Enchilada',\n",
       " 'Rueben',\n",
       " 'Cilantro',\n",
       " 'Karll',\n",
       " 'Sprout',\n",
       " 'Bloop',\n",
       " 'Ashleigh',\n",
       " 'Stark',\n",
       " 'Luther',\n",
       " 'Ivar',\n",
       " 'Jangle',\n",
       " 'Schnitzel',\n",
       " 'Berkeley',\n",
       " 'Ralphé',\n",
       " 'Charleson',\n",
       " 'Clyde',\n",
       " 'Puff',\n",
       " 'Pupcasso',\n",
       " 'Stefan',\n",
       " 'Ziva',\n",
       " 'Kayla',\n",
       " 'Edmund',\n",
       " 'Aqua',\n",
       " 'Chase',\n",
       " 'Rorie',\n",
       " 'Simba',\n",
       " 'Bayley',\n",
       " 'Storkson',\n",
       " 'Remy',\n",
       " 'Chadrick',\n",
       " 'Kellogg',\n",
       " 'Buckley',\n",
       " 'Livvie',\n",
       " 'Hermione',\n",
       " 'Ralpher',\n",
       " 'Aldrick',\n",
       " 'Rooney',\n",
       " 'Harnold',\n",
       " 'Sid',\n",
       " 'Carper',\n",
       " 'Staniel',\n",
       " 'Beemo',\n",
       " 'Gunner',\n",
       " 'Lacy',\n",
       " 'Tater',\n",
       " 'Olaf',\n",
       " 'Cecil',\n",
       " 'Vince',\n",
       " 'Karma',\n",
       " 'Billy',\n",
       " 'Walker',\n",
       " 'Rodney',\n",
       " 'Malikai',\n",
       " 'Bobble',\n",
       " 'River',\n",
       " 'Jebberson',\n",
       " 'Farfle',\n",
       " 'Jiminus',\n",
       " 'Sora',\n",
       " 'Kane',\n",
       " 'Bowie',\n",
       " 'Opie',\n",
       " 'Alexanderson',\n",
       " 'Suki',\n",
       " 'Barclay',\n",
       " 'Skittle',\n",
       " 'Ebby',\n",
       " 'Link',\n",
       " 'Jennifur',\n",
       " 'Bluebert',\n",
       " 'Stephanus',\n",
       " 'Zeus',\n",
       " 'Bertson',\n",
       " 'Nico',\n",
       " 'Michelangelope',\n",
       " 'Siba',\n",
       " 'Travis',\n",
       " 'Kanu',\n",
       " 'Lance',\n",
       " 'Beya',\n",
       " 'Geno',\n",
       " 'Brownie',\n",
       " 'DonDon',\n",
       " 'Sprinkles',\n",
       " 'Heinrich',\n",
       " 'Shakespeare',\n",
       " 'Grey',\n",
       " 'Willem',\n",
       " 'Dixie',\n",
       " 'Al',\n",
       " 'Carbon',\n",
       " 'Chevy',\n",
       " 'Blanket',\n",
       " 'Tito',\n",
       " 'Rupert',\n",
       " 'Brudge',\n",
       " 'Shadoe',\n",
       " 'Angel',\n",
       " 'Brat',\n",
       " 'Tove',\n",
       " 'Aubie',\n",
       " 'Blue',\n",
       " 'O',\n",
       " 'Huck',\n",
       " 'Wesley',\n",
       " 'Stella',\n",
       " 'Tonks',\n",
       " 'Dale',\n",
       " 'Rizzo',\n",
       " 'Pinot',\n",
       " 'Dallas',\n",
       " 'Hero',\n",
       " 'Stormy',\n",
       " 'Mairi',\n",
       " 'Loomis',\n",
       " 'Godi',\n",
       " 'Deacon',\n",
       " 'Timmy',\n",
       " 'Combo',\n",
       " 'Jay',\n",
       " 'Mya',\n",
       " 'Strider',\n",
       " 'Kota',\n",
       " 'Glenn',\n",
       " 'Shelby',\n",
       " 'Gilbert',\n",
       " 'Stewie',\n",
       " 'Lilah',\n",
       " 'Spanky',\n",
       " 'Jameson',\n",
       " 'Blu',\n",
       " 'Dietrich',\n",
       " 'Divine',\n",
       " 'Tripp',\n",
       " 'Cora',\n",
       " 'Tilly',\n",
       " 'Bookstore',\n",
       " 'Linus',\n",
       " 'Shiloh',\n",
       " 'Gustav',\n",
       " 'Arlen',\n",
       " 'Lenox',\n",
       " 'Harvey',\n",
       " 'Zoe',\n",
       " 'Grizzie',\n",
       " 'Sephie',\n",
       " 'Tayzie',\n",
       " 'Bonaparte',\n",
       " 'Wishes',\n",
       " 'Rose',\n",
       " 'Theo',\n",
       " 'Fido',\n",
       " 'Emma',\n",
       " 'Spencer',\n",
       " 'Lilli',\n",
       " 'Boston',\n",
       " 'Brandonald',\n",
       " 'Corey',\n",
       " 'Leonard',\n",
       " 'Beckham',\n",
       " 'Devón',\n",
       " 'Gert',\n",
       " 'Dex',\n",
       " 'Ace',\n",
       " 'Christoper']"
      ]
     },
     "execution_count": 31,
     "metadata": {},
     "output_type": "execute_result"
    }
   ],
   "source": [
    "#getting the unique variables in the name column\n",
    "list(dict(twt_archive['name'].value_counts()))"
   ]
  },
  {
   "cell_type": "code",
   "execution_count": 32,
   "metadata": {
    "scrolled": true
   },
   "outputs": [
    {
     "data": {
      "text/plain": [
       "None          745\n",
       "Charlie        12\n",
       "Lucy           11\n",
       "Cooper         11\n",
       "Oliver         11\n",
       "             ... \n",
       "Devón           1\n",
       "Gert            1\n",
       "Dex             1\n",
       "Ace             1\n",
       "Christoper      1\n",
       "Name: name, Length: 932, dtype: int64"
      ]
     },
     "execution_count": 32,
     "metadata": {},
     "output_type": "execute_result"
    }
   ],
   "source": [
    "#looking at the unique names \n",
    "twt_archive['name'].value_counts()"
   ]
  },
  {
   "cell_type": "markdown",
   "metadata": {},
   "source": [
    "### Issue #4"
   ]
  },
  {
   "cell_type": "markdown",
   "metadata": {},
   "source": [
    "#### 3.4. Define \n",
    "We only want original dog ratings. We need to remove retweets"
   ]
  },
  {
   "cell_type": "markdown",
   "metadata": {},
   "source": [
    "### Code"
   ]
  },
  {
   "cell_type": "code",
   "execution_count": 33,
   "metadata": {},
   "outputs": [],
   "source": [
    "# remove all retweets\n",
    "twt_archive = twt_archive[twt_archive['retweeted_status_id'].isnull()]\n",
    "\n",
    "# Filter out all replies\n",
    "twt_archive = twt_archive[twt_archive.in_reply_to_status_id.isnull()]"
   ]
  },
  {
   "cell_type": "code",
   "execution_count": 34,
   "metadata": {},
   "outputs": [],
   "source": [
    "# Drop unneeded columns\n",
    "twt_archive.drop([\n",
    "    'retweeted_status_id', 'retweeted_status_user_id',\n",
    "    'retweeted_status_timestamp', 'in_reply_to_status_id', 'in_reply_to_user_id'],\n",
    "                   axis=1,\n",
    "                   inplace=True)"
   ]
  },
  {
   "cell_type": "markdown",
   "metadata": {},
   "source": [
    "#### Test"
   ]
  },
  {
   "cell_type": "code",
   "execution_count": 35,
   "metadata": {},
   "outputs": [
    {
     "name": "stdout",
     "output_type": "stream",
     "text": [
      "<class 'pandas.core.frame.DataFrame'>\n",
      "Int64Index: 2097 entries, 0 to 2355\n",
      "Data columns (total 12 columns):\n",
      " #   Column              Non-Null Count  Dtype              \n",
      "---  ------              --------------  -----              \n",
      " 0   tweet_id            2097 non-null   int64              \n",
      " 1   timestamp           2097 non-null   datetime64[ns, UTC]\n",
      " 2   source              2097 non-null   object             \n",
      " 3   text                2097 non-null   object             \n",
      " 4   expanded_urls       2094 non-null   object             \n",
      " 5   rating_numerator    2097 non-null   float64            \n",
      " 6   rating_denominator  2097 non-null   float64            \n",
      " 7   name                1993 non-null   object             \n",
      " 8   doggo               2097 non-null   object             \n",
      " 9   floofer             2097 non-null   object             \n",
      " 10  pupper              2097 non-null   object             \n",
      " 11  puppo               2097 non-null   object             \n",
      "dtypes: datetime64[ns, UTC](1), float64(2), int64(1), object(8)\n",
      "memory usage: 213.0+ KB\n"
     ]
    }
   ],
   "source": [
    "twt_archive.info()"
   ]
  },
  {
   "cell_type": "markdown",
   "metadata": {},
   "source": [
    "### Issue #5\n"
   ]
  },
  {
   "cell_type": "markdown",
   "metadata": {},
   "source": [
    "#### 3.5. Define\n",
    "- the tweet source column contains html tags and text we don't need in the analysis "
   ]
  },
  {
   "cell_type": "code",
   "execution_count": 36,
   "metadata": {},
   "outputs": [
    {
     "data": {
      "text/plain": [
       "<a href=\"http://twitter.com/download/iphone\" rel=\"nofollow\">Twitter for iPhone</a>     1964\n",
       "<a href=\"http://vine.co\" rel=\"nofollow\">Vine - Make a Scene</a>                          91\n",
       "<a href=\"http://twitter.com\" rel=\"nofollow\">Twitter Web Client</a>                       31\n",
       "<a href=\"https://about.twitter.com/products/tweetdeck\" rel=\"nofollow\">TweetDeck</a>      11\n",
       "Name: source, dtype: int64"
      ]
     },
     "execution_count": 36,
     "metadata": {},
     "output_type": "execute_result"
    }
   ],
   "source": [
    "#looking at the unique variables in the source column\n",
    "twt_archive['source'].value_counts()"
   ]
  },
  {
   "cell_type": "markdown",
   "metadata": {},
   "source": [
    "#### Code"
   ]
  },
  {
   "cell_type": "code",
   "execution_count": 37,
   "metadata": {},
   "outputs": [],
   "source": [
    "#writing a code to locate only the text we need and rename it to the desired name \n",
    "twt_archive.loc[twt_archive['source'].str.contains('iPhone'), 'source']='iphone'\n",
    "twt_archive.loc[twt_archive['source'].str.contains('Vine'), 'source']='Vine'\n",
    "twt_archive.loc[twt_archive['source'].str.contains('tweetdeck'), 'source']='TweetDeck'\n",
    "twt_archive.loc[twt_archive['source'].str.contains('Twitter Web Client'), 'source']='Twitter Web Client'\n"
   ]
  },
  {
   "cell_type": "markdown",
   "metadata": {},
   "source": [
    "#### Test"
   ]
  },
  {
   "cell_type": "code",
   "execution_count": 38,
   "metadata": {},
   "outputs": [
    {
     "data": {
      "text/plain": [
       "iphone                1964\n",
       "Vine                    91\n",
       "Twitter Web Client      31\n",
       "TweetDeck               11\n",
       "Name: source, dtype: int64"
      ]
     },
     "execution_count": 38,
     "metadata": {},
     "output_type": "execute_result"
    }
   ],
   "source": [
    "#checking if the changes has been effected\n",
    "twt_archive['source'].value_counts()"
   ]
  },
  {
   "cell_type": "markdown",
   "metadata": {},
   "source": [
    "### Issue #6"
   ]
  },
  {
   "cell_type": "markdown",
   "metadata": {},
   "source": [
    "#### 3.6. Define \n",
    "- The tweet text column in the twiiter archive data contains url links we would not need per the analysis"
   ]
  },
  {
   "cell_type": "markdown",
   "metadata": {},
   "source": [
    "#### Code"
   ]
  },
  {
   "cell_type": "code",
   "execution_count": 39,
   "metadata": {},
   "outputs": [],
   "source": [
    "#using regular expressions to take off all url links from the tweets \n",
    "import re\n",
    "\n",
    "text=twt_archive.text\n",
    "twt_archive['text'] = re.sub(r'^https?:\\/\\/.*[\\r\\n]*:@[\\d-]\\d{8}0*(\\d*)\\d{8}', '',str(text), flags=re.MULTILINE)\n"
   ]
  },
  {
   "cell_type": "markdown",
   "metadata": {},
   "source": [
    "#### Test"
   ]
  },
  {
   "cell_type": "code",
   "execution_count": 40,
   "metadata": {},
   "outputs": [
    {
     "data": {
      "text/plain": [
       "0       This is Phineas. He's a mystical boy. Only eve...\\n1       This is Tilly. She's just checking pup on you....\\n2       This is Archie. He is a rare Norwegian Pouncin...\\n3       This is Darla. She commenced a snooze mid meal...\\n4       This is Franklin. He would like you to stop ca...\\n                              ...                        \\n2351    Here we have a 1949 1st generation vulpix. Enj...\\n2352    This is a purebred Piers Morgan. Loves to Netf...\\n2353    Here is a very happy pup. Big fan of well-main...\\n2354    This is a western brown Mitsubishi terrier. Up...\\n2355    Here we have a Japanese Irish Setter. Lost eye...\\nName: text, Length: 2097, dtype: object    2097\n",
       "Name: text, dtype: int64"
      ]
     },
     "execution_count": 40,
     "metadata": {},
     "output_type": "execute_result"
    }
   ],
   "source": [
    "twt_archive['text'].value_counts()"
   ]
  },
  {
   "cell_type": "markdown",
   "metadata": {},
   "source": [
    "### Issue #7\n"
   ]
  },
  {
   "cell_type": "markdown",
   "metadata": {},
   "source": [
    "### 3.7. Define\n",
    "There are irrelevant columns in the twitter archive data "
   ]
  },
  {
   "cell_type": "markdown",
   "metadata": {},
   "source": [
    "#### code "
   ]
  },
  {
   "cell_type": "code",
   "execution_count": 41,
   "metadata": {},
   "outputs": [],
   "source": [
    "#dropping columns we wouldn't need \n",
    "twt_archive.drop(columns=['expanded_urls', 'rating_denominator'], inplace=True, axis=1)"
   ]
  },
  {
   "cell_type": "markdown",
   "metadata": {},
   "source": [
    "#### Test"
   ]
  },
  {
   "cell_type": "code",
   "execution_count": 42,
   "metadata": {},
   "outputs": [
    {
     "data": {
      "text/html": [
       "<div>\n",
       "<style scoped>\n",
       "    .dataframe tbody tr th:only-of-type {\n",
       "        vertical-align: middle;\n",
       "    }\n",
       "\n",
       "    .dataframe tbody tr th {\n",
       "        vertical-align: top;\n",
       "    }\n",
       "\n",
       "    .dataframe thead th {\n",
       "        text-align: right;\n",
       "    }\n",
       "</style>\n",
       "<table border=\"1\" class=\"dataframe\">\n",
       "  <thead>\n",
       "    <tr style=\"text-align: right;\">\n",
       "      <th></th>\n",
       "      <th>tweet_id</th>\n",
       "      <th>timestamp</th>\n",
       "      <th>source</th>\n",
       "      <th>text</th>\n",
       "      <th>rating_numerator</th>\n",
       "      <th>name</th>\n",
       "      <th>doggo</th>\n",
       "      <th>floofer</th>\n",
       "      <th>pupper</th>\n",
       "      <th>puppo</th>\n",
       "    </tr>\n",
       "  </thead>\n",
       "  <tbody>\n",
       "    <tr>\n",
       "      <th>0</th>\n",
       "      <td>892420643555336193</td>\n",
       "      <td>2017-08-01 16:23:56+00:00</td>\n",
       "      <td>iphone</td>\n",
       "      <td>0       This is Phineas. He's a mystical boy. ...</td>\n",
       "      <td>13.0</td>\n",
       "      <td>Phineas</td>\n",
       "      <td>None</td>\n",
       "      <td>None</td>\n",
       "      <td>None</td>\n",
       "      <td>None</td>\n",
       "    </tr>\n",
       "    <tr>\n",
       "      <th>1</th>\n",
       "      <td>892177421306343426</td>\n",
       "      <td>2017-08-01 00:17:27+00:00</td>\n",
       "      <td>iphone</td>\n",
       "      <td>0       This is Phineas. He's a mystical boy. ...</td>\n",
       "      <td>13.0</td>\n",
       "      <td>Tilly</td>\n",
       "      <td>None</td>\n",
       "      <td>None</td>\n",
       "      <td>None</td>\n",
       "      <td>None</td>\n",
       "    </tr>\n",
       "    <tr>\n",
       "      <th>2</th>\n",
       "      <td>891815181378084864</td>\n",
       "      <td>2017-07-31 00:18:03+00:00</td>\n",
       "      <td>iphone</td>\n",
       "      <td>0       This is Phineas. He's a mystical boy. ...</td>\n",
       "      <td>12.0</td>\n",
       "      <td>Archie</td>\n",
       "      <td>None</td>\n",
       "      <td>None</td>\n",
       "      <td>None</td>\n",
       "      <td>None</td>\n",
       "    </tr>\n",
       "  </tbody>\n",
       "</table>\n",
       "</div>"
      ],
      "text/plain": [
       "             tweet_id                 timestamp  source  \\\n",
       "0  892420643555336193 2017-08-01 16:23:56+00:00  iphone   \n",
       "1  892177421306343426 2017-08-01 00:17:27+00:00  iphone   \n",
       "2  891815181378084864 2017-07-31 00:18:03+00:00  iphone   \n",
       "\n",
       "                                                text  rating_numerator  \\\n",
       "0  0       This is Phineas. He's a mystical boy. ...              13.0   \n",
       "1  0       This is Phineas. He's a mystical boy. ...              13.0   \n",
       "2  0       This is Phineas. He's a mystical boy. ...              12.0   \n",
       "\n",
       "      name doggo floofer pupper puppo  \n",
       "0  Phineas  None    None   None  None  \n",
       "1    Tilly  None    None   None  None  \n",
       "2   Archie  None    None   None  None  "
      ]
     },
     "execution_count": 42,
     "metadata": {},
     "output_type": "execute_result"
    }
   ],
   "source": [
    "#having a look at few rows of the data aafter dropping\n",
    "twt_archive.head(3)"
   ]
  },
  {
   "cell_type": "code",
   "execution_count": 43,
   "metadata": {},
   "outputs": [
    {
     "name": "stdout",
     "output_type": "stream",
     "text": [
      "<class 'pandas.core.frame.DataFrame'>\n",
      "Int64Index: 2097 entries, 0 to 2355\n",
      "Data columns (total 10 columns):\n",
      " #   Column            Non-Null Count  Dtype              \n",
      "---  ------            --------------  -----              \n",
      " 0   tweet_id          2097 non-null   int64              \n",
      " 1   timestamp         2097 non-null   datetime64[ns, UTC]\n",
      " 2   source            2097 non-null   object             \n",
      " 3   text              2097 non-null   object             \n",
      " 4   rating_numerator  2097 non-null   float64            \n",
      " 5   name              1993 non-null   object             \n",
      " 6   doggo             2097 non-null   object             \n",
      " 7   floofer           2097 non-null   object             \n",
      " 8   pupper            2097 non-null   object             \n",
      " 9   puppo             2097 non-null   object             \n",
      "dtypes: datetime64[ns, UTC](1), float64(1), int64(1), object(7)\n",
      "memory usage: 180.2+ KB\n"
     ]
    }
   ],
   "source": [
    "twt_archive.info()"
   ]
  },
  {
   "cell_type": "markdown",
   "metadata": {},
   "source": [
    "### Issue #8 "
   ]
  },
  {
   "cell_type": "markdown",
   "metadata": {},
   "source": [
    "#### 3.8. Define \n",
    "The date column contains timezones we don't need for our examination"
   ]
  },
  {
   "cell_type": "markdown",
   "metadata": {},
   "source": [
    "#### Code"
   ]
  },
  {
   "cell_type": "code",
   "execution_count": 44,
   "metadata": {},
   "outputs": [],
   "source": [
    "#Removing the timezone\n",
    "twt_archive['timestamp'] = twt_archive['timestamp'].dt.tz_localize(None)\n",
    "\n",
    "#Keep the date only\n",
    "twt_archive['timestamp'] = twt_archive['timestamp'].dt.date\n",
    "twt_archive['timestamp']=pd.to_datetime(twt_archive['timestamp'])"
   ]
  },
  {
   "cell_type": "markdown",
   "metadata": {},
   "source": [
    "#### Test"
   ]
  },
  {
   "cell_type": "code",
   "execution_count": 45,
   "metadata": {},
   "outputs": [
    {
     "data": {
      "text/plain": [
       "0   2017-08-01\n",
       "1   2017-08-01\n",
       "2   2017-07-31\n",
       "3   2017-07-30\n",
       "4   2017-07-29\n",
       "Name: timestamp, dtype: datetime64[ns]"
      ]
     },
     "execution_count": 45,
     "metadata": {},
     "output_type": "execute_result"
    }
   ],
   "source": [
    "#checking if our changes has been effected \n",
    "twt_archive['timestamp'].head()"
   ]
  },
  {
   "cell_type": "markdown",
   "metadata": {},
   "source": [
    "#### Issue #9"
   ]
  },
  {
   "cell_type": "markdown",
   "metadata": {},
   "source": [
    "#### 3.9. Define\n",
    "There are duplicates in the image url in the twitter images data"
   ]
  },
  {
   "cell_type": "code",
   "execution_count": 46,
   "metadata": {},
   "outputs": [
    {
     "data": {
      "text/plain": [
       "66"
      ]
     },
     "execution_count": 46,
     "metadata": {},
     "output_type": "execute_result"
    }
   ],
   "source": [
    "twt_img['jpg_url'].duplicated().sum()"
   ]
  },
  {
   "cell_type": "markdown",
   "metadata": {},
   "source": [
    "#### Code"
   ]
  },
  {
   "cell_type": "code",
   "execution_count": 47,
   "metadata": {},
   "outputs": [],
   "source": [
    "\n",
    "#dropping duplicates in the image url column\n",
    "twt_img.drop_duplicates(subset=\"jpg_url\", inplace=True)"
   ]
  },
  {
   "cell_type": "markdown",
   "metadata": {},
   "source": [
    "#### Test"
   ]
  },
  {
   "cell_type": "code",
   "execution_count": 48,
   "metadata": {},
   "outputs": [
    {
     "data": {
      "text/plain": [
       "0"
      ]
     },
     "execution_count": 48,
     "metadata": {},
     "output_type": "execute_result"
    }
   ],
   "source": [
    "twt_img.jpg_url.duplicated().sum()"
   ]
  },
  {
   "cell_type": "code",
   "execution_count": null,
   "metadata": {},
   "outputs": [],
   "source": []
  },
  {
   "cell_type": "markdown",
   "metadata": {},
   "source": [
    "# 3.2.0. Tidiness-Issues"
   ]
  },
  {
   "cell_type": "markdown",
   "metadata": {},
   "source": [
    "### Issue #1\n"
   ]
  },
  {
   "cell_type": "markdown",
   "metadata": {},
   "source": [
    "#### 3.2.1. Define\n",
    "For the tweet archive data, one variable has been stored in different columns. the columns doggo, floofer, pupper, and puppo can be formed to one column"
   ]
  },
  {
   "cell_type": "markdown",
   "metadata": {},
   "source": [
    "#### Code"
   ]
  },
  {
   "cell_type": "code",
   "execution_count": 49,
   "metadata": {},
   "outputs": [],
   "source": [
    "#creating a list for the dog stages\n",
    "Stage = ['doggo', 'floofer', 'pupper', 'puppo']\n",
    "#creating a new column in twitter archive data and then replace none with nan\n",
    "twt_archive[Stage] = twt_archive[Stage].replace('None', np.nan)\n",
    "def join_all(x):\n",
    "    return ', '.join(x.dropna().astype(str))\n",
    "\n",
    "twt_archive['Stage'] = twt_archive[Stage].apply(join_all, axis=1)\n",
    "#replace empty string with nan\n",
    "twt_archive['Stage'] = twt_archive['Stage'].replace('', np.nan)\n",
    "\n",
    "#dropping uneeded columns \n",
    "twt_archive.drop([\"doggo\", \"floofer\", \"pupper\", \"puppo\"], axis=1, inplace=True)"
   ]
  },
  {
   "cell_type": "markdown",
   "metadata": {},
   "source": [
    "#### Test"
   ]
  },
  {
   "cell_type": "code",
   "execution_count": 50,
   "metadata": {},
   "outputs": [
    {
     "data": {
      "text/plain": [
       "pupper            221\n",
       "doggo              72\n",
       "puppo              23\n",
       "floofer             9\n",
       "doggo, pupper       9\n",
       "doggo, puppo        1\n",
       "doggo, floofer      1\n",
       "Name: Stage, dtype: int64"
      ]
     },
     "execution_count": 50,
     "metadata": {},
     "output_type": "execute_result"
    }
   ],
   "source": [
    "twt_archive['Stage'].value_counts()"
   ]
  },
  {
   "cell_type": "markdown",
   "metadata": {},
   "source": [
    "# Issue #2"
   ]
  },
  {
   "cell_type": "markdown",
   "metadata": {},
   "source": [
    "#### 3.2.2. Define\n",
    "The three datasets about tweet can all be combined as one dataframe without using all 3 datasets"
   ]
  },
  {
   "cell_type": "markdown",
   "metadata": {},
   "source": [
    "#### Code"
   ]
  },
  {
   "cell_type": "code",
   "execution_count": 51,
   "metadata": {},
   "outputs": [],
   "source": [
    "data1=pd.merge(twt_archive, twt_img, how='inner', on='tweet_id')"
   ]
  },
  {
   "cell_type": "code",
   "execution_count": 52,
   "metadata": {},
   "outputs": [],
   "source": [
    "# Rename the id column in the tweets dataframe table\n",
    "twt_df.rename({'id': 'tweet_id'}, axis=1, inplace=True)\n",
    "data=pd.merge(data1, twt_df, how='inner', on='tweet_id')"
   ]
  },
  {
   "cell_type": "markdown",
   "metadata": {},
   "source": [
    "#### Test"
   ]
  },
  {
   "cell_type": "code",
   "execution_count": 53,
   "metadata": {},
   "outputs": [],
   "source": [
    "# #now I drop the columns that are not needed since we have merged it \n",
    "# data.drop([\"doggo\", \"floofer\", \"pupper\", \"puppo\"], axis=1, inplace=True)\n"
   ]
  },
  {
   "cell_type": "code",
   "execution_count": 54,
   "metadata": {},
   "outputs": [],
   "source": [
    "#changing all None to null values\n",
    "data['Stage'].replace('None', np.nan, inplace=True)"
   ]
  },
  {
   "cell_type": "code",
   "execution_count": 55,
   "metadata": {
    "scrolled": true
   },
   "outputs": [
    {
     "data": {
      "text/plain": [
       "pupper            201\n",
       "doggo              63\n",
       "puppo              22\n",
       "doggo, pupper       8\n",
       "floofer             7\n",
       "doggo, puppo        1\n",
       "doggo, floofer      1\n",
       "Name: Stage, dtype: int64"
      ]
     },
     "execution_count": 55,
     "metadata": {},
     "output_type": "execute_result"
    }
   ],
   "source": [
    "data['Stage'].value_counts()"
   ]
  },
  {
   "cell_type": "code",
   "execution_count": 56,
   "metadata": {},
   "outputs": [],
   "source": [
    "#changing all No_Name to null values in the names column\n",
    "data['name'].replace('No_Name', np.nan, inplace=True)"
   ]
  },
  {
   "cell_type": "markdown",
   "metadata": {},
   "source": [
    "## 4. Storing-Data\n",
    "Save gathered, assessed, and cleaned master dataset to a CSV file named \"twitter_archive_master.csv\"."
   ]
  },
  {
   "cell_type": "code",
   "execution_count": 57,
   "metadata": {},
   "outputs": [],
   "source": [
    "#storing data in a csv format\n",
    "data.to_csv('twitter_archive_master.csv', index=False)"
   ]
  },
  {
   "cell_type": "markdown",
   "metadata": {},
   "source": [
    "## 5. Analyzing-and-Visualizing-Data\n",
    "In this section, analyze and visualize your wrangled data. You must produce at least **three (3) insights and one (1) visualization.**"
   ]
  },
  {
   "cell_type": "code",
   "execution_count": 58,
   "metadata": {},
   "outputs": [],
   "source": [
    "#loading the master data\n",
    "data=pd.read_csv('twitter_archive_master.csv')"
   ]
  },
  {
   "cell_type": "code",
   "execution_count": 59,
   "metadata": {},
   "outputs": [
    {
     "data": {
      "text/html": [
       "<div>\n",
       "<style scoped>\n",
       "    .dataframe tbody tr th:only-of-type {\n",
       "        vertical-align: middle;\n",
       "    }\n",
       "\n",
       "    .dataframe tbody tr th {\n",
       "        vertical-align: top;\n",
       "    }\n",
       "\n",
       "    .dataframe thead th {\n",
       "        text-align: right;\n",
       "    }\n",
       "</style>\n",
       "<table border=\"1\" class=\"dataframe\">\n",
       "  <thead>\n",
       "    <tr style=\"text-align: right;\">\n",
       "      <th></th>\n",
       "      <th>tweet_id</th>\n",
       "      <th>timestamp</th>\n",
       "      <th>source</th>\n",
       "      <th>text</th>\n",
       "      <th>rating_numerator</th>\n",
       "      <th>name</th>\n",
       "      <th>Stage</th>\n",
       "      <th>jpg_url</th>\n",
       "      <th>img_num</th>\n",
       "      <th>p1</th>\n",
       "      <th>p1_conf</th>\n",
       "      <th>p1_dog</th>\n",
       "      <th>p2</th>\n",
       "      <th>p2_conf</th>\n",
       "      <th>p2_dog</th>\n",
       "      <th>p3</th>\n",
       "      <th>p3_conf</th>\n",
       "      <th>p3_dog</th>\n",
       "      <th>retweet_count</th>\n",
       "      <th>favorite_count</th>\n",
       "    </tr>\n",
       "  </thead>\n",
       "  <tbody>\n",
       "    <tr>\n",
       "      <th>0</th>\n",
       "      <td>892420643555336193</td>\n",
       "      <td>2017-08-01</td>\n",
       "      <td>iphone</td>\n",
       "      <td>0       This is Phineas. He's a mystical boy. ...</td>\n",
       "      <td>13.0</td>\n",
       "      <td>Phineas</td>\n",
       "      <td>NaN</td>\n",
       "      <td>https://pbs.twimg.com/media/DGKD1-bXoAAIAUK.jpg</td>\n",
       "      <td>1</td>\n",
       "      <td>orange</td>\n",
       "      <td>0.097049</td>\n",
       "      <td>False</td>\n",
       "      <td>bagel</td>\n",
       "      <td>0.085851</td>\n",
       "      <td>False</td>\n",
       "      <td>banana</td>\n",
       "      <td>0.076110</td>\n",
       "      <td>False</td>\n",
       "      <td>8853</td>\n",
       "      <td>39467</td>\n",
       "    </tr>\n",
       "    <tr>\n",
       "      <th>1</th>\n",
       "      <td>892177421306343426</td>\n",
       "      <td>2017-08-01</td>\n",
       "      <td>iphone</td>\n",
       "      <td>0       This is Phineas. He's a mystical boy. ...</td>\n",
       "      <td>13.0</td>\n",
       "      <td>Tilly</td>\n",
       "      <td>NaN</td>\n",
       "      <td>https://pbs.twimg.com/media/DGGmoV4XsAAUL6n.jpg</td>\n",
       "      <td>1</td>\n",
       "      <td>Chihuahua</td>\n",
       "      <td>0.323581</td>\n",
       "      <td>True</td>\n",
       "      <td>Pekinese</td>\n",
       "      <td>0.090647</td>\n",
       "      <td>True</td>\n",
       "      <td>papillon</td>\n",
       "      <td>0.068957</td>\n",
       "      <td>True</td>\n",
       "      <td>6514</td>\n",
       "      <td>33819</td>\n",
       "    </tr>\n",
       "    <tr>\n",
       "      <th>2</th>\n",
       "      <td>891815181378084864</td>\n",
       "      <td>2017-07-31</td>\n",
       "      <td>iphone</td>\n",
       "      <td>0       This is Phineas. He's a mystical boy. ...</td>\n",
       "      <td>12.0</td>\n",
       "      <td>Archie</td>\n",
       "      <td>NaN</td>\n",
       "      <td>https://pbs.twimg.com/media/DGBdLU1WsAANxJ9.jpg</td>\n",
       "      <td>1</td>\n",
       "      <td>Chihuahua</td>\n",
       "      <td>0.716012</td>\n",
       "      <td>True</td>\n",
       "      <td>malamute</td>\n",
       "      <td>0.078253</td>\n",
       "      <td>True</td>\n",
       "      <td>kelpie</td>\n",
       "      <td>0.031379</td>\n",
       "      <td>True</td>\n",
       "      <td>4328</td>\n",
       "      <td>25461</td>\n",
       "    </tr>\n",
       "  </tbody>\n",
       "</table>\n",
       "</div>"
      ],
      "text/plain": [
       "             tweet_id   timestamp  source  \\\n",
       "0  892420643555336193  2017-08-01  iphone   \n",
       "1  892177421306343426  2017-08-01  iphone   \n",
       "2  891815181378084864  2017-07-31  iphone   \n",
       "\n",
       "                                                text  rating_numerator  \\\n",
       "0  0       This is Phineas. He's a mystical boy. ...              13.0   \n",
       "1  0       This is Phineas. He's a mystical boy. ...              13.0   \n",
       "2  0       This is Phineas. He's a mystical boy. ...              12.0   \n",
       "\n",
       "      name Stage                                          jpg_url  img_num  \\\n",
       "0  Phineas   NaN  https://pbs.twimg.com/media/DGKD1-bXoAAIAUK.jpg        1   \n",
       "1    Tilly   NaN  https://pbs.twimg.com/media/DGGmoV4XsAAUL6n.jpg        1   \n",
       "2   Archie   NaN  https://pbs.twimg.com/media/DGBdLU1WsAANxJ9.jpg        1   \n",
       "\n",
       "          p1   p1_conf  p1_dog        p2   p2_conf  p2_dog        p3  \\\n",
       "0     orange  0.097049   False     bagel  0.085851   False    banana   \n",
       "1  Chihuahua  0.323581    True  Pekinese  0.090647    True  papillon   \n",
       "2  Chihuahua  0.716012    True  malamute  0.078253    True    kelpie   \n",
       "\n",
       "    p3_conf  p3_dog  retweet_count  favorite_count  \n",
       "0  0.076110   False           8853           39467  \n",
       "1  0.068957    True           6514           33819  \n",
       "2  0.031379    True           4328           25461  "
      ]
     },
     "execution_count": 59,
     "metadata": {},
     "output_type": "execute_result"
    }
   ],
   "source": [
    "#having a glance through the final data\n",
    "data.head(3)"
   ]
  },
  {
   "cell_type": "code",
   "execution_count": 60,
   "metadata": {},
   "outputs": [
    {
     "data": {
      "text/plain": [
       "pupper            201\n",
       "doggo              63\n",
       "puppo              22\n",
       "doggo, pupper       8\n",
       "floofer             7\n",
       "doggo, puppo        1\n",
       "doggo, floofer      1\n",
       "Name: Stage, dtype: int64"
      ]
     },
     "execution_count": 60,
     "metadata": {},
     "output_type": "execute_result"
    }
   ],
   "source": [
    "#number of dogs in each dog stage \n",
    "data['Stage'].value_counts()"
   ]
  },
  {
   "cell_type": "code",
   "execution_count": 61,
   "metadata": {
    "scrolled": false
   },
   "outputs": [
    {
     "data": {
      "text/html": [
       "<div>\n",
       "<style scoped>\n",
       "    .dataframe tbody tr th:only-of-type {\n",
       "        vertical-align: middle;\n",
       "    }\n",
       "\n",
       "    .dataframe tbody tr th {\n",
       "        vertical-align: top;\n",
       "    }\n",
       "\n",
       "    .dataframe thead th {\n",
       "        text-align: right;\n",
       "    }\n",
       "</style>\n",
       "<table border=\"1\" class=\"dataframe\">\n",
       "  <thead>\n",
       "    <tr style=\"text-align: right;\">\n",
       "      <th></th>\n",
       "      <th>rating_numerator</th>\n",
       "    </tr>\n",
       "    <tr>\n",
       "      <th>name</th>\n",
       "      <th></th>\n",
       "    </tr>\n",
       "  </thead>\n",
       "  <tbody>\n",
       "    <tr>\n",
       "      <th>Atticus</th>\n",
       "      <td>893.5</td>\n",
       "    </tr>\n",
       "    <tr>\n",
       "      <th>Logan</th>\n",
       "      <td>75.0</td>\n",
       "    </tr>\n",
       "    <tr>\n",
       "      <th>Bluebert</th>\n",
       "      <td>50.0</td>\n",
       "    </tr>\n",
       "    <tr>\n",
       "      <th>Sam</th>\n",
       "      <td>17.0</td>\n",
       "    </tr>\n",
       "    <tr>\n",
       "      <th>Sophie</th>\n",
       "      <td>15.0</td>\n",
       "    </tr>\n",
       "    <tr>\n",
       "      <th>Cermet</th>\n",
       "      <td>14.0</td>\n",
       "    </tr>\n",
       "    <tr>\n",
       "      <th>Clifford</th>\n",
       "      <td>14.0</td>\n",
       "    </tr>\n",
       "    <tr>\n",
       "      <th>Emmy</th>\n",
       "      <td>14.0</td>\n",
       "    </tr>\n",
       "    <tr>\n",
       "      <th>General</th>\n",
       "      <td>14.0</td>\n",
       "    </tr>\n",
       "    <tr>\n",
       "      <th>Smiley</th>\n",
       "      <td>14.0</td>\n",
       "    </tr>\n",
       "  </tbody>\n",
       "</table>\n",
       "</div>"
      ],
      "text/plain": [
       "          rating_numerator\n",
       "name                      \n",
       "Atticus              893.5\n",
       "Logan                 75.0\n",
       "Bluebert              50.0\n",
       "Sam                   17.0\n",
       "Sophie                15.0\n",
       "Cermet                14.0\n",
       "Clifford              14.0\n",
       "Emmy                  14.0\n",
       "General               14.0\n",
       "Smiley                14.0"
      ]
     },
     "execution_count": 61,
     "metadata": {},
     "output_type": "execute_result"
    }
   ],
   "source": [
    "#average ratings for top 10 rated dogs \n",
    "data.groupby('name')[['rating_numerator']].mean().\\\n",
    "sort_values(by='rating_numerator',ascending=False)[:10]"
   ]
  },
  {
   "cell_type": "markdown",
   "metadata": {},
   "source": [
    "Atticus has been receiving the highest of ratings "
   ]
  },
  {
   "cell_type": "code",
   "execution_count": 62,
   "metadata": {},
   "outputs": [
    {
     "data": {
      "text/html": [
       "<div>\n",
       "<style scoped>\n",
       "    .dataframe tbody tr th:only-of-type {\n",
       "        vertical-align: middle;\n",
       "    }\n",
       "\n",
       "    .dataframe tbody tr th {\n",
       "        vertical-align: top;\n",
       "    }\n",
       "\n",
       "    .dataframe thead th {\n",
       "        text-align: right;\n",
       "    }\n",
       "</style>\n",
       "<table border=\"1\" class=\"dataframe\">\n",
       "  <thead>\n",
       "    <tr style=\"text-align: right;\">\n",
       "      <th></th>\n",
       "      <th>rating_numerator</th>\n",
       "    </tr>\n",
       "    <tr>\n",
       "      <th>Stage</th>\n",
       "      <th></th>\n",
       "    </tr>\n",
       "  </thead>\n",
       "  <tbody>\n",
       "    <tr>\n",
       "      <th>doggo, puppo</th>\n",
       "      <td>13.000000</td>\n",
       "    </tr>\n",
       "    <tr>\n",
       "      <th>floofer</th>\n",
       "      <td>12.000000</td>\n",
       "    </tr>\n",
       "    <tr>\n",
       "      <th>puppo</th>\n",
       "      <td>12.000000</td>\n",
       "    </tr>\n",
       "    <tr>\n",
       "      <th>doggo</th>\n",
       "      <td>11.888889</td>\n",
       "    </tr>\n",
       "    <tr>\n",
       "      <th>doggo, floofer</th>\n",
       "      <td>11.000000</td>\n",
       "    </tr>\n",
       "    <tr>\n",
       "      <th>doggo, pupper</th>\n",
       "      <td>11.000000</td>\n",
       "    </tr>\n",
       "    <tr>\n",
       "      <th>pupper</th>\n",
       "      <td>10.716418</td>\n",
       "    </tr>\n",
       "  </tbody>\n",
       "</table>\n",
       "</div>"
      ],
      "text/plain": [
       "                rating_numerator\n",
       "Stage                           \n",
       "doggo, puppo           13.000000\n",
       "floofer                12.000000\n",
       "puppo                  12.000000\n",
       "doggo                  11.888889\n",
       "doggo, floofer         11.000000\n",
       "doggo, pupper          11.000000\n",
       "pupper                 10.716418"
      ]
     },
     "execution_count": 62,
     "metadata": {},
     "output_type": "execute_result"
    }
   ],
   "source": [
    "#top rated dog stage \n",
    "data.groupby('Stage')[['rating_numerator']].mean().\\\n",
    "sort_values(by='rating_numerator',ascending=False)[:10]"
   ]
  },
  {
   "cell_type": "markdown",
   "metadata": {},
   "source": [
    "Pupper dog stage got the highest rating as compared to the other dog stage"
   ]
  },
  {
   "cell_type": "code",
   "execution_count": 63,
   "metadata": {},
   "outputs": [
    {
     "data": {
      "text/html": [
       "<div>\n",
       "<style scoped>\n",
       "    .dataframe tbody tr th:only-of-type {\n",
       "        vertical-align: middle;\n",
       "    }\n",
       "\n",
       "    .dataframe tbody tr th {\n",
       "        vertical-align: top;\n",
       "    }\n",
       "\n",
       "    .dataframe thead th {\n",
       "        text-align: right;\n",
       "    }\n",
       "</style>\n",
       "<table border=\"1\" class=\"dataframe\">\n",
       "  <thead>\n",
       "    <tr style=\"text-align: right;\">\n",
       "      <th></th>\n",
       "      <th>favorite_count</th>\n",
       "      <th>retweet_count</th>\n",
       "    </tr>\n",
       "    <tr>\n",
       "      <th>name</th>\n",
       "      <th></th>\n",
       "      <th></th>\n",
       "    </tr>\n",
       "  </thead>\n",
       "  <tbody>\n",
       "    <tr>\n",
       "      <th>None</th>\n",
       "      <td>4345385</td>\n",
       "      <td>1566799</td>\n",
       "    </tr>\n",
       "    <tr>\n",
       "      <th>Bo</th>\n",
       "      <td>185922</td>\n",
       "      <td>73800</td>\n",
       "    </tr>\n",
       "    <tr>\n",
       "      <th>Charlie</th>\n",
       "      <td>115468</td>\n",
       "      <td>30850</td>\n",
       "    </tr>\n",
       "    <tr>\n",
       "      <th>Zoey</th>\n",
       "      <td>113581</td>\n",
       "      <td>32201</td>\n",
       "    </tr>\n",
       "    <tr>\n",
       "      <th>Lucy</th>\n",
       "      <td>110523</td>\n",
       "      <td>35313</td>\n",
       "    </tr>\n",
       "    <tr>\n",
       "      <th>Duddles</th>\n",
       "      <td>107956</td>\n",
       "      <td>45849</td>\n",
       "    </tr>\n",
       "    <tr>\n",
       "      <th>Stephan</th>\n",
       "      <td>107015</td>\n",
       "      <td>56625</td>\n",
       "    </tr>\n",
       "    <tr>\n",
       "      <th>Jamesy</th>\n",
       "      <td>106827</td>\n",
       "      <td>32883</td>\n",
       "    </tr>\n",
       "    <tr>\n",
       "      <th>Penny</th>\n",
       "      <td>102986</td>\n",
       "      <td>31734</td>\n",
       "    </tr>\n",
       "    <tr>\n",
       "      <th>Stanley</th>\n",
       "      <td>99345</td>\n",
       "      <td>24460</td>\n",
       "    </tr>\n",
       "  </tbody>\n",
       "</table>\n",
       "</div>"
      ],
      "text/plain": [
       "         favorite_count  retweet_count\n",
       "name                                  \n",
       "None            4345385        1566799\n",
       "Bo               185922          73800\n",
       "Charlie          115468          30850\n",
       "Zoey             113581          32201\n",
       "Lucy             110523          35313\n",
       "Duddles          107956          45849\n",
       "Stephan          107015          56625\n",
       "Jamesy           106827          32883\n",
       "Penny            102986          31734\n",
       "Stanley           99345          24460"
      ]
     },
     "execution_count": 63,
     "metadata": {},
     "output_type": "execute_result"
    }
   ],
   "source": [
    "#dogs with the higher number of tweeets and retweets \n",
    "data.groupby('name')[['favorite_count','retweet_count']].sum().\\\n",
    "sort_values(by='favorite_count',ascending=False)[:10]"
   ]
  },
  {
   "cell_type": "code",
   "execution_count": 64,
   "metadata": {},
   "outputs": [
    {
     "data": {
      "text/html": [
       "<div>\n",
       "<style scoped>\n",
       "    .dataframe tbody tr th:only-of-type {\n",
       "        vertical-align: middle;\n",
       "    }\n",
       "\n",
       "    .dataframe tbody tr th {\n",
       "        vertical-align: top;\n",
       "    }\n",
       "\n",
       "    .dataframe thead th {\n",
       "        text-align: right;\n",
       "    }\n",
       "</style>\n",
       "<table border=\"1\" class=\"dataframe\">\n",
       "  <thead>\n",
       "    <tr style=\"text-align: right;\">\n",
       "      <th></th>\n",
       "      <th>favorite_count</th>\n",
       "      <th>retweet_count</th>\n",
       "    </tr>\n",
       "    <tr>\n",
       "      <th>Stage</th>\n",
       "      <th></th>\n",
       "      <th></th>\n",
       "    </tr>\n",
       "  </thead>\n",
       "  <tbody>\n",
       "    <tr>\n",
       "      <th>pupper</th>\n",
       "      <td>1457356</td>\n",
       "      <td>478883</td>\n",
       "    </tr>\n",
       "    <tr>\n",
       "      <th>doggo</th>\n",
       "      <td>1219452</td>\n",
       "      <td>448919</td>\n",
       "    </tr>\n",
       "    <tr>\n",
       "      <th>puppo</th>\n",
       "      <td>474806</td>\n",
       "      <td>142427</td>\n",
       "    </tr>\n",
       "    <tr>\n",
       "      <th>doggo, pupper</th>\n",
       "      <td>105759</td>\n",
       "      <td>35178</td>\n",
       "    </tr>\n",
       "    <tr>\n",
       "      <th>floofer</th>\n",
       "      <td>92442</td>\n",
       "      <td>34781</td>\n",
       "    </tr>\n",
       "    <tr>\n",
       "      <th>doggo, puppo</th>\n",
       "      <td>47844</td>\n",
       "      <td>19196</td>\n",
       "    </tr>\n",
       "    <tr>\n",
       "      <th>doggo, floofer</th>\n",
       "      <td>17169</td>\n",
       "      <td>3433</td>\n",
       "    </tr>\n",
       "  </tbody>\n",
       "</table>\n",
       "</div>"
      ],
      "text/plain": [
       "                favorite_count  retweet_count\n",
       "Stage                                        \n",
       "pupper                 1457356         478883\n",
       "doggo                  1219452         448919\n",
       "puppo                   474806         142427\n",
       "doggo, pupper           105759          35178\n",
       "floofer                  92442          34781\n",
       "doggo, puppo             47844          19196\n",
       "doggo, floofer           17169           3433"
      ]
     },
     "execution_count": 64,
     "metadata": {},
     "output_type": "execute_result"
    }
   ],
   "source": [
    "#dogs stage with the higher numver of tweeets and retweets \n",
    "data.groupby('Stage')[['favorite_count','retweet_count']].sum().\\\n",
    "sort_values(by='retweet_count',ascending=False)"
   ]
  },
  {
   "cell_type": "code",
   "execution_count": 65,
   "metadata": {
    "scrolled": true
   },
   "outputs": [
    {
     "data": {
      "text/html": [
       "<div>\n",
       "<style scoped>\n",
       "    .dataframe tbody tr th:only-of-type {\n",
       "        vertical-align: middle;\n",
       "    }\n",
       "\n",
       "    .dataframe tbody tr th {\n",
       "        vertical-align: top;\n",
       "    }\n",
       "\n",
       "    .dataframe thead th {\n",
       "        text-align: right;\n",
       "    }\n",
       "</style>\n",
       "<table border=\"1\" class=\"dataframe\">\n",
       "  <thead>\n",
       "    <tr style=\"text-align: right;\">\n",
       "      <th></th>\n",
       "      <th>p1_conf</th>\n",
       "      <th>p2_conf</th>\n",
       "      <th>p3_conf</th>\n",
       "    </tr>\n",
       "    <tr>\n",
       "      <th>Stage</th>\n",
       "      <th></th>\n",
       "      <th></th>\n",
       "      <th></th>\n",
       "    </tr>\n",
       "  </thead>\n",
       "  <tbody>\n",
       "    <tr>\n",
       "      <th>doggo, pupper</th>\n",
       "      <td>0.825542</td>\n",
       "      <td>0.091143</td>\n",
       "      <td>0.029868</td>\n",
       "    </tr>\n",
       "    <tr>\n",
       "      <th>puppo</th>\n",
       "      <td>0.722293</td>\n",
       "      <td>0.135468</td>\n",
       "      <td>0.043701</td>\n",
       "    </tr>\n",
       "    <tr>\n",
       "      <th>floofer</th>\n",
       "      <td>0.609204</td>\n",
       "      <td>0.155319</td>\n",
       "      <td>0.047997</td>\n",
       "    </tr>\n",
       "    <tr>\n",
       "      <th>pupper</th>\n",
       "      <td>0.605832</td>\n",
       "      <td>0.130416</td>\n",
       "      <td>0.055902</td>\n",
       "    </tr>\n",
       "    <tr>\n",
       "      <th>doggo</th>\n",
       "      <td>0.577058</td>\n",
       "      <td>0.157341</td>\n",
       "      <td>0.062083</td>\n",
       "    </tr>\n",
       "    <tr>\n",
       "      <th>doggo, floofer</th>\n",
       "      <td>0.354733</td>\n",
       "      <td>0.177538</td>\n",
       "      <td>0.131706</td>\n",
       "    </tr>\n",
       "    <tr>\n",
       "      <th>doggo, puppo</th>\n",
       "      <td>0.321676</td>\n",
       "      <td>0.115138</td>\n",
       "      <td>0.096100</td>\n",
       "    </tr>\n",
       "  </tbody>\n",
       "</table>\n",
       "</div>"
      ],
      "text/plain": [
       "                 p1_conf   p2_conf   p3_conf\n",
       "Stage                                       \n",
       "doggo, pupper   0.825542  0.091143  0.029868\n",
       "puppo           0.722293  0.135468  0.043701\n",
       "floofer         0.609204  0.155319  0.047997\n",
       "pupper          0.605832  0.130416  0.055902\n",
       "doggo           0.577058  0.157341  0.062083\n",
       "doggo, floofer  0.354733  0.177538  0.131706\n",
       "doggo, puppo    0.321676  0.115138  0.096100"
      ]
     },
     "execution_count": 65,
     "metadata": {},
     "output_type": "execute_result"
    }
   ],
   "source": [
    "#dogs stage with the highest dog predicton confidence\n",
    "data.groupby('Stage')[['p1_conf','p2_conf', 'p3_conf']].mean().\\\n",
    "sort_values(by='p1_conf',ascending=False)"
   ]
  },
  {
   "cell_type": "markdown",
   "metadata": {},
   "source": [
    "Puppo recorded the highest average rating. Followed by Floofer, doggo and pupper"
   ]
  },
  {
   "cell_type": "code",
   "execution_count": 66,
   "metadata": {},
   "outputs": [
    {
     "data": {
      "text/html": [
       "<div>\n",
       "<style scoped>\n",
       "    .dataframe tbody tr th:only-of-type {\n",
       "        vertical-align: middle;\n",
       "    }\n",
       "\n",
       "    .dataframe tbody tr th {\n",
       "        vertical-align: top;\n",
       "    }\n",
       "\n",
       "    .dataframe thead th {\n",
       "        text-align: right;\n",
       "    }\n",
       "</style>\n",
       "<table border=\"1\" class=\"dataframe\">\n",
       "  <thead>\n",
       "    <tr style=\"text-align: right;\">\n",
       "      <th></th>\n",
       "      <th>p1_conf</th>\n",
       "      <th>p2_conf</th>\n",
       "      <th>p3_conf</th>\n",
       "    </tr>\n",
       "    <tr>\n",
       "      <th>name</th>\n",
       "      <th></th>\n",
       "      <th></th>\n",
       "      <th></th>\n",
       "    </tr>\n",
       "  </thead>\n",
       "  <tbody>\n",
       "    <tr>\n",
       "      <th>Shaggy</th>\n",
       "      <td>1.000000</td>\n",
       "      <td>1.011300e-08</td>\n",
       "      <td>1.740170e-10</td>\n",
       "    </tr>\n",
       "    <tr>\n",
       "      <th>Lenox</th>\n",
       "      <td>0.999962</td>\n",
       "      <td>1.448950e-05</td>\n",
       "      <td>6.060880e-06</td>\n",
       "    </tr>\n",
       "    <tr>\n",
       "      <th>Peanut</th>\n",
       "      <td>0.999945</td>\n",
       "      <td>1.763430e-05</td>\n",
       "      <td>1.470730e-05</td>\n",
       "    </tr>\n",
       "    <tr>\n",
       "      <th>Dwight</th>\n",
       "      <td>0.999846</td>\n",
       "      <td>7.191480e-05</td>\n",
       "      <td>4.447290e-05</td>\n",
       "    </tr>\n",
       "    <tr>\n",
       "      <th>Olaf</th>\n",
       "      <td>0.999837</td>\n",
       "      <td>1.169070e-04</td>\n",
       "      <td>1.133840e-05</td>\n",
       "    </tr>\n",
       "    <tr>\n",
       "      <th>Pete</th>\n",
       "      <td>0.999715</td>\n",
       "      <td>4.629670e-05</td>\n",
       "      <td>4.118430e-05</td>\n",
       "    </tr>\n",
       "    <tr>\n",
       "      <th>Tom</th>\n",
       "      <td>0.999403</td>\n",
       "      <td>6.229490e-05</td>\n",
       "      <td>3.046190e-05</td>\n",
       "    </tr>\n",
       "    <tr>\n",
       "      <th>Ozzy</th>\n",
       "      <td>0.999365</td>\n",
       "      <td>5.436150e-04</td>\n",
       "      <td>2.815280e-05</td>\n",
       "    </tr>\n",
       "    <tr>\n",
       "      <th>Roscoe</th>\n",
       "      <td>0.999201</td>\n",
       "      <td>3.611780e-04</td>\n",
       "      <td>7.556160e-05</td>\n",
       "    </tr>\n",
       "    <tr>\n",
       "      <th>Hubertson</th>\n",
       "      <td>0.999044</td>\n",
       "      <td>5.465860e-04</td>\n",
       "      <td>2.351950e-04</td>\n",
       "    </tr>\n",
       "  </tbody>\n",
       "</table>\n",
       "</div>"
      ],
      "text/plain": [
       "            p1_conf       p2_conf       p3_conf\n",
       "name                                           \n",
       "Shaggy     1.000000  1.011300e-08  1.740170e-10\n",
       "Lenox      0.999962  1.448950e-05  6.060880e-06\n",
       "Peanut     0.999945  1.763430e-05  1.470730e-05\n",
       "Dwight     0.999846  7.191480e-05  4.447290e-05\n",
       "Olaf       0.999837  1.169070e-04  1.133840e-05\n",
       "Pete       0.999715  4.629670e-05  4.118430e-05\n",
       "Tom        0.999403  6.229490e-05  3.046190e-05\n",
       "Ozzy       0.999365  5.436150e-04  2.815280e-05\n",
       "Roscoe     0.999201  3.611780e-04  7.556160e-05\n",
       "Hubertson  0.999044  5.465860e-04  2.351950e-04"
      ]
     },
     "execution_count": 66,
     "metadata": {},
     "output_type": "execute_result"
    }
   ],
   "source": [
    "#dogs with the highest dog predicton confidence\n",
    "data.groupby('name')[['p1_conf','p2_conf', 'p3_conf']].mean().\\\n",
    "sort_values(by='p1_conf',ascending=False)[:10]"
   ]
  },
  {
   "cell_type": "markdown",
   "metadata": {},
   "source": [
    "Shaggy received the highest prediction accuracy with the neural network prediction"
   ]
  },
  {
   "cell_type": "code",
   "execution_count": 67,
   "metadata": {},
   "outputs": [
    {
     "name": "stdout",
     "output_type": "stream",
     "text": [
      "<class 'pandas.core.frame.DataFrame'>\n",
      "RangeIndex: 2354 entries, 0 to 2353\n",
      "Data columns (total 3 columns):\n",
      " #   Column          Non-Null Count  Dtype\n",
      "---  ------          --------------  -----\n",
      " 0   tweet_id        2354 non-null   int64\n",
      " 1   retweet_count   2354 non-null   int64\n",
      " 2   favorite_count  2354 non-null   int64\n",
      "dtypes: int64(3)\n",
      "memory usage: 55.3 KB\n"
     ]
    }
   ],
   "source": [
    "twt_df.info()"
   ]
  },
  {
   "cell_type": "code",
   "execution_count": 68,
   "metadata": {},
   "outputs": [
    {
     "data": {
      "text/plain": [
       "tweet_id               0\n",
       "timestamp              0\n",
       "source                 0\n",
       "text                   0\n",
       "rating_numerator       0\n",
       "name                  98\n",
       "Stage               1668\n",
       "jpg_url                0\n",
       "img_num                0\n",
       "p1                     0\n",
       "p1_conf                0\n",
       "p1_dog                 0\n",
       "p2                     0\n",
       "p2_conf                0\n",
       "p2_dog                 0\n",
       "p3                     0\n",
       "p3_conf                0\n",
       "p3_dog                 0\n",
       "retweet_count          0\n",
       "favorite_count         0\n",
       "dtype: int64"
      ]
     },
     "execution_count": 68,
     "metadata": {},
     "output_type": "execute_result"
    }
   ],
   "source": [
    "data.isnull().sum()"
   ]
  },
  {
   "cell_type": "markdown",
   "metadata": {},
   "source": [
    "From the output of null values, 1029 dogs tweet has no name attached. Also for the dog stage, 2284 had their stage not attched to tweets"
   ]
  },
  {
   "cell_type": "markdown",
   "metadata": {},
   "source": [
    "### Insights:\n",
    "1. There is a strong positive correlation between Favorite Likes and Retweets. As number of likes increases, so as retweets\n",
    "\n",
    "2. As the prediction for p1 increases, that of p3 reduces. There is a strong negative correlation between these variables\n",
    "\n",
    "3. For The dog stage, Puppo receives the highest average rating. For the dog nicknames, Atticus received an overwhelming huge number of ratings as compared to the other dogs.\n",
    "\n",
    "4. Puppo also gets majority of favorite likes and retweets. Duddies and Jamesy has been leading On the other hand. Dogs that are mostly retweeted are Stephen"
   ]
  },
  {
   "cell_type": "markdown",
   "metadata": {
    "collapsed": true
   },
   "source": [
    "### 6. Visualization"
   ]
  },
  {
   "cell_type": "code",
   "execution_count": 69,
   "metadata": {},
   "outputs": [
    {
     "data": {
      "image/png": "[encoded data removed]",
      "text/plain": [
       "<Figure size 432x288 with 1 Axes>"
      ]
     },
     "metadata": {
      "needs_background": "light"
     },
     "output_type": "display_data"
    }
   ],
   "source": [
    "data.groupby('name')[['favorite_count']].sum().sort_values(by='favorite_count',ascending=False)[:10].plot.bar()\\\n",
    ".set_title('Dogs with the most Fovorite Counts ')\n",
    "plt.grid(False);\n"
   ]
  },
  {
   "cell_type": "code",
   "execution_count": 70,
   "metadata": {},
   "outputs": [
    {
     "data": {
      "image/png": "[encoded data removed]",
      "text/plain": [
       "<Figure size 720x576 with 2 Axes>"
      ]
     },
     "metadata": {
      "needs_background": "light"
     },
     "output_type": "display_data"
    }
   ],
   "source": [
    "#plotting a seaborn to show the relationship between the numerical variable s\n",
    "plt.figure(figsize=(10,8))\n",
    "sns.heatmap(data.corr(),cmap='coolwarm', annot=True).set_title('Heatmap for Numerical Variables showing Correlation');"
   ]
  },
  {
   "cell_type": "code",
   "execution_count": 71,
   "metadata": {},
   "outputs": [
    {
     "data": {
      "image/png": "[encoded data removed]",
      "text/plain": [
       "<Figure size 432x288 with 1 Axes>"
      ]
     },
     "metadata": {
      "needs_background": "light"
     },
     "output_type": "display_data"
    }
   ],
   "source": [
    "ax = sns.regplot(x=\"favorite_count\", y=\"retweet_count\", data=data)\n",
    "plt.title('Relationship between Retweets and Favorite Count')\n",
    "plt.grid(False)"
   ]
  },
  {
   "cell_type": "markdown",
   "metadata": {},
   "source": [
    "There is a strong positive correlation between Retweet and favorite counts. As number of likes increases, so as retweets "
   ]
  },
  {
   "cell_type": "code",
   "execution_count": 72,
   "metadata": {
    "scrolled": true
   },
   "outputs": [
    {
     "data": {
      "image/png": "[encoded data removed]",
      "text/plain": [
       "<Figure size 432x288 with 1 Axes>"
      ]
     },
     "metadata": {
      "needs_background": "light"
     },
     "output_type": "display_data"
    }
   ],
   "source": [
    "data.groupby('name')[['favorite_count', 'retweet_count']].mean().\\\n",
    "sort_values(by='favorite_count',ascending=False)[:10].plot.bar().set_title('Top 10 Dogs with the Highest Likes and Retweets')\n",
    "plt.grid(False)\n",
    "\n",
    "plt.show()"
   ]
  },
  {
   "cell_type": "markdown",
   "metadata": {},
   "source": [
    "In terms of Fovorite likes, Duddies and Jamesy has been leading. On the other hand, dogs that are mostly retweeted are Stephen"
   ]
  },
  {
   "cell_type": "code",
   "execution_count": 73,
   "metadata": {
    "scrolled": true
   },
   "outputs": [
    {
     "data": {
      "image/png": "[encoded data removed]",
      "text/plain": [
       "<Figure size 432x288 with 1 Axes>"
      ]
     },
     "metadata": {
      "needs_background": "light"
     },
     "output_type": "display_data"
    }
   ],
   "source": [
    "#top rated dog stage \n",
    "data.groupby('Stage')[['rating_numerator']].mean().\\\n",
    "sort_values(by='rating_numerator',ascending=False)[:10].plot.bar().set_title('Dog Stage with the Highest Average Ratings');\n",
    "plt.grid(False)\n",
    "plt.show()"
   ]
  },
  {
   "cell_type": "markdown",
   "metadata": {},
   "source": [
    "Puppo recorded the highest average rating. Followed by Floofer, doggo and pupper"
   ]
  },
  {
   "cell_type": "code",
   "execution_count": 74,
   "metadata": {},
   "outputs": [
    {
     "data": {
      "image/png": "[encoded data removed]",
      "text/plain": [
       "<Figure size 432x288 with 1 Axes>"
      ]
     },
     "metadata": {
      "needs_background": "light"
     },
     "output_type": "display_data"
    }
   ],
   "source": [
    "data.groupby('name')[['rating_numerator']].mean().\\\n",
    "sort_values(by='rating_numerator',ascending=False)[:10].plot.bar().set_title('Top 10 Dogs with the Highest Average Ratings')\n",
    "plt.grid(False)\n",
    "plt.show()\n"
   ]
  },
  {
   "cell_type": "code",
   "execution_count": 75,
   "metadata": {},
   "outputs": [
    {
     "data": {
      "image/png": "[encoded data removed]",
      "text/plain": [
       "<Figure size 432x288 with 1 Axes>"
      ]
     },
     "metadata": {
      "needs_background": "light"
     },
     "output_type": "display_data"
    }
   ],
   "source": [
    "#dogs stage with the higher numver of tweeets and retweets \n",
    "data.groupby('Stage')[['favorite_count','retweet_count']].mean().sort_values(by='favorite_count',ascending=False).plot.bar()\\\n",
    ".set_title('Favorite Likes and Retweets by Dog Stage')\n",
    "plt.grid(False);"
   ]
  },
  {
   "cell_type": "markdown",
   "metadata": {},
   "source": [
    "On average, Puppo receives the higher number of tweets. In terms of retweets, both puppo and duggo tops the chart. Pupper has been recording the least likes and retweets "
   ]
  }
 ],
 "metadata": {
  "extensions": {
   "jupyter_dashboards": {
    "activeView": "report_default",
    "version": 1,
    "views": {
     "grid_default": {
      "cellMargin": 10,
      "defaultCellHeight": 20,
      "maxColumns": 12,
      "name": "grid",
      "type": "grid"
     },
     "report_default": {
      "name": "report",
      "type": "report"
     }
    }
   }
  },
  "kernelspec": {
   "display_name": "Python 3 (ipykernel)",
   "language": "python",
   "name": "python3"
  },
  "language_info": {
   "codemirror_mode": {
    "name": "ipython",
    "version": 3
   },
   "file_extension": ".py",
   "mimetype": "text/x-python",
   "name": "python",
   "nbconvert_exporter": "python",
   "pygments_lexer": "ipython3",
   "version": "3.10.4"
  }
 },
 "nbformat": 4,
 "nbformat_minor": 2
}
